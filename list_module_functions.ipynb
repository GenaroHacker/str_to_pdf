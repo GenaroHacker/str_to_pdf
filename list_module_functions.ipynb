{
  "nbformat": 4,
  "nbformat_minor": 0,
  "metadata": {
    "colab": {
      "provenance": [],
      "authorship_tag": "ABX9TyP2Xa7OBTIKXQ6sr5wHNXVZ",
      "include_colab_link": true
    },
    "kernelspec": {
      "name": "python3",
      "display_name": "Python 3"
    },
    "language_info": {
      "name": "python"
    }
  },
  "cells": [
    {
      "cell_type": "markdown",
      "metadata": {
        "id": "view-in-github",
        "colab_type": "text"
      },
      "source": [
        "<a href=\"https://colab.research.google.com/github/GenaroHacker/pdf_generator/blob/main/list_module_functions.ipynb\" target=\"_parent\"><img src=\"https://colab.research.google.com/assets/colab-badge.svg\" alt=\"Open In Colab\"/></a>"
      ]
    },
    {
      "cell_type": "code",
      "execution_count": null,
      "metadata": {
        "colab": {
          "base_uri": "https://localhost:8080/"
        },
        "id": "IsUAuIOKV_NX",
        "outputId": "e17abf63-765a-480d-de3d-d02397ffea56"
      },
      "outputs": [
        {
          "output_type": "stream",
          "name": "stdout",
          "text": [
            "fatal: destination path 'pdf_generator' already exists and is not an empty directory.\n",
            "/content/pdf_generator\n",
            "BaseProducts         main.ipynb       \u001b[0m\u001b[01;34mpdf_generator\u001b[0m/  str_to_block.py\n",
            "grey_lines_text.pdf  pages_to_pdf.py  sql_core.py     Ubuntu-Regular.ttf\n",
            "Looking in indexes: https://pypi.org/simple, https://us-python.pkg.dev/colab-wheels/public/simple/\n",
            "Requirement already satisfied: reportlab in /usr/local/lib/python3.8/dist-packages (3.6.12)\n",
            "Requirement already satisfied: pillow>=9.0.0 in /usr/local/lib/python3.8/dist-packages (from reportlab) (9.4.0)\n"
          ]
        }
      ],
      "source": [
        "!git clone https://github.com/GenaroHacker/pdf_generator.git\n",
        "%cd /content/pdf_generator\n",
        "if True:\n",
        "  %ls\n",
        "%run sql_core.py\n",
        "!pip install reportlab"
      ]
    },
    {
      "cell_type": "code",
      "source": [
        "def split_string_into_lines(string):\n",
        "    lines = string.splitlines()\n",
        "\n",
        "    return lines\n",
        "\n",
        "def detect_if_is_a_python_function(string):\n",
        "    if string.startswith('def'):\n",
        "        return True\n",
        "    else:\n",
        "        return False\n",
        "\n",
        "def read_file(file_name):\n",
        "    with open(file_name, 'r') as file:\n",
        "        file_content = file.read()\n",
        "    return file_content\n",
        "\n",
        "def list_module_functions(file_name):\n",
        "    file_content = read_file(file_name)\n",
        "    lines = split_string_into_lines(file_content)\n",
        "    functions = []\n",
        "    for line in lines:\n",
        "        if detect_if_is_a_python_function(line):\n",
        "            functions.append(line)\n",
        "    return functions\n",
        "\n",
        "#test\n",
        "print(\"\"\"\n",
        "for function in list_module_functions('/content/pdf_generator/sql_core.py'):\n",
        "    print(function)\n",
        "    \"\"\"\n",
        ")\n",
        "\n",
        "\n",
        "for function in list_module_functions('/content/pdf_generator/sql_core.py'):\n",
        "    print(function)"
      ],
      "metadata": {
        "colab": {
          "base_uri": "https://localhost:8080/"
        },
        "id": "wkWcDfTG0ypK",
        "outputId": "96d3cb64-1a19-4bb0-b6fb-36105b105379"
      },
      "execution_count": 18,
      "outputs": [
        {
          "output_type": "stream",
          "name": "stdout",
          "text": [
            "\n",
            "for function in list_module_functions('/content/pdf_generator/sql_core.py'):\n",
            "    print(function)\n",
            "    \n",
            "def connect_disconnect(func):\n",
            "def create_table( database_name , table_name , table_structure ):\n",
            "def insert_record(database_name, record):\n",
            "def insert_several_records(database_name, multiple_records):\n",
            "def read_records(database_name, table_name):\n",
            "def read_last_record(database_name, table_name):\n",
            "def update_record(database_name, record):\n",
            "def remove_record(database_name, record):\n",
            "def run_command(database_name, command):\n"
          ]
        }
      ]
    }
  ]
}