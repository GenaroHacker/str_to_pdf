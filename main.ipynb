{
  "nbformat": 4,
  "nbformat_minor": 0,
  "metadata": {
    "colab": {
      "provenance": [],
      "authorship_tag": "ABX9TyNzEQGFGzgF7sFg9OkI8wKG",
      "include_colab_link": true
    },
    "kernelspec": {
      "name": "python3",
      "display_name": "Python 3"
    },
    "language_info": {
      "name": "python"
    }
  },
  "cells": [
    {
      "cell_type": "markdown",
      "metadata": {
        "id": "view-in-github",
        "colab_type": "text"
      },
      "source": [
        "<a href=\"https://colab.research.google.com/github/GenaroHacker/pdf_generator/blob/main/main.ipynb\" target=\"_parent\"><img src=\"https://colab.research.google.com/assets/colab-badge.svg\" alt=\"Open In Colab\"/></a>"
      ]
    },
    {
      "cell_type": "code",
      "execution_count": 1,
      "metadata": {
        "id": "IsUAuIOKV_NX",
        "outputId": "e6993344-f6d7-432c-b63b-cb679f98ed77",
        "colab": {
          "base_uri": "https://localhost:8080/",
          "height": 1000
        },
        "cellView": "form"
      },
      "outputs": [
        {
          "output_type": "stream",
          "name": "stdout",
          "text": [
            "Cloning into 'pdf_generator'...\n",
            "remote: Enumerating objects: 108, done.\u001b[K\n",
            "remote: Counting objects: 100% (108/108), done.\u001b[K\n",
            "remote: Compressing objects: 100% (104/104), done.\u001b[K\n",
            "remote: Total 108 (delta 60), reused 14 (delta 2), pack-reused 0\u001b[K\n",
            "Receiving objects: 100% (108/108), 192.42 KiB | 1.50 MiB/s, done.\n",
            "Resolving deltas: 100% (60/60), done.\n",
            "/content/pdf_generator\n",
            "list_functions.py  pages_to_pdf.py  str_to_block.py\n",
            "main.ipynb         sql_core.py      Ubuntu-Regular.ttf\n",
            "\n",
            "for function in list_module_functions('/content/pdf_generator/sql_core.py'):\n",
            "    print(function)\n",
            "    \n",
            "def connect_disconnect(func):\n",
            "def create_table( database_name , table_name , table_structure ):\n",
            "def insert_record(database_name, record):\n",
            "def insert_several_records(database_name, multiple_records):\n",
            "def read_records(database_name, table_name):\n",
            "def read_last_record(database_name, table_name):\n",
            "def update_record(database_name, record):\n",
            "def remove_record(database_name, record):\n",
            "def run_command(database_name, command):\n",
            "Looking in indexes: https://pypi.org/simple, https://us-python.pkg.dev/colab-wheels/public/simple/\n",
            "Collecting reportlab\n",
            "  Downloading reportlab-3.6.12-cp38-cp38-manylinux_2_17_x86_64.manylinux2014_x86_64.whl (2.8 MB)\n",
            "\u001b[2K     \u001b[90m━━━━━━━━━━━━━━━━━━━━━━━━━━━━━━━━━━━━━━━━\u001b[0m \u001b[32m2.8/2.8 MB\u001b[0m \u001b[31m19.1 MB/s\u001b[0m eta \u001b[36m0:00:00\u001b[0m\n",
            "\u001b[?25hCollecting pillow>=9.0.0\n",
            "  Downloading Pillow-9.4.0-cp38-cp38-manylinux_2_28_x86_64.whl (3.4 MB)\n",
            "\u001b[2K     \u001b[90m━━━━━━━━━━━━━━━━━━━━━━━━━━━━━━━━━━━━━━━━\u001b[0m \u001b[32m3.4/3.4 MB\u001b[0m \u001b[31m49.6 MB/s\u001b[0m eta \u001b[36m0:00:00\u001b[0m\n",
            "\u001b[?25hInstalling collected packages: pillow, reportlab\n",
            "  Attempting uninstall: pillow\n",
            "    Found existing installation: Pillow 8.4.0\n",
            "    Uninstalling Pillow-8.4.0:\n",
            "      Successfully uninstalled Pillow-8.4.0\n",
            "Successfully installed pillow-9.4.0 reportlab-3.6.12\n"
          ]
        },
        {
          "output_type": "display_data",
          "data": {
            "application/vnd.colab-display-data+json": {
              "pip_warning": {
                "packages": [
                  "PIL"
                ]
              }
            }
          },
          "metadata": {}
        },
        {
          "output_type": "stream",
          "name": "stdout",
          "text": [
            "{'pages_to_pdf.py': ['pages_to_pdf'], 'sql_core.py': ['connect_disconnect', 'create_table', 'insert_record', 'insert_several_records', 'read_records', 'read_last_record', 'update_record', 'remove_record', 'run_command'], 'str_to_block.py': ['get_string_width', 'split_string'], 'list_functions.py': ['split_string_into_lines', 'detect_if_is_a_python_function', 'read_file', 'list_module_functions']}\n",
            "----pages_to_pdf.py-----\n",
            "----sql_core.py-----\n",
            "----str_to_block.py-----\n",
            "['Hello World, this is a test to see if the function works how it should. ', 'I hope it does, otherwise I will have to fix it. ']\n",
            "----list_functions.py-----\n",
            "\n",
            "for function in list_module_functions('/content/pdf_generator/sql_core.py'):\n",
            "    print(function)\n",
            "    \n",
            "def connect_disconnect(func):\n",
            "def create_table( database_name , table_name , table_structure ):\n",
            "def insert_record(database_name, record):\n",
            "def insert_several_records(database_name, multiple_records):\n",
            "def read_records(database_name, table_name):\n",
            "def read_last_record(database_name, table_name):\n",
            "def update_record(database_name, record):\n",
            "def remove_record(database_name, record):\n",
            "def run_command(database_name, command):\n",
            "{'list_functions.py': ['split_string_into_lines',\n",
            "                       'detect_if_is_a_python_function',\n",
            "                       'read_file',\n",
            "                       'list_module_functions'],\n",
            " 'pages_to_pdf.py': ['pages_to_pdf'],\n",
            " 'sql_core.py': ['connect_disconnect',\n",
            "                 'create_table',\n",
            "                 'insert_record',\n",
            "                 'insert_several_records',\n",
            "                 'read_records',\n",
            "                 'read_last_record',\n",
            "                 'update_record',\n",
            "                 'remove_record',\n",
            "                 'run_command'],\n",
            " 'str_to_block.py': ['get_string_width', 'split_string']}\n",
            "from pages_to_pdf import pages_to_pdf\n",
            "from sql_core import connect_disconnect\n",
            "from sql_core import create_table\n",
            "from sql_core import insert_record\n",
            "from sql_core import insert_several_records\n",
            "from sql_core import read_records\n",
            "from sql_core import read_last_record\n",
            "from sql_core import update_record\n",
            "from sql_core import remove_record\n",
            "from sql_core import run_command\n",
            "from str_to_block import get_string_width\n",
            "from str_to_block import split_string\n",
            "from list_functions import split_string_into_lines\n",
            "from list_functions import detect_if_is_a_python_function\n",
            "from list_functions import read_file\n",
            "from list_functions import list_module_functions\n"
          ]
        }
      ],
      "source": [
        "#@title commited\n",
        "\n",
        "!git clone https://github.com/GenaroHacker/pdf_generator.git\n",
        "%cd /content/pdf_generator\n",
        "if True:\n",
        "  %ls\n",
        "%run list_functions.py\n",
        "\n",
        "\n",
        "from PIL import ImageFont\n",
        "\n",
        "\n",
        "!pip install reportlab\n",
        "\n",
        "\n",
        "#The funtion takes a path to a file in colaboratory and returns a list of its files ending with .py in the following format:\n",
        "#Input '/cotent/pdf_generator/sql_core.py'\n",
        "#Output ['sql_core.py']\n",
        "import os\n",
        "def list_files_in_colab_folder(path):\n",
        "    files = []\n",
        "    for file in os.listdir(path):\n",
        "        if file.endswith('.py'):\n",
        "            files.append(file)\n",
        "    return files\n",
        "\n",
        "my_modules = list_files_in_colab_folder('/content/pdf_generator')\n",
        "\n",
        "\n",
        "\n",
        "#Input \"def get_string_width(font_path, string):\"\n",
        "#Output \"get_string_width\"\n",
        "def get_function_name(string):\n",
        "    function_name = string.split('(')[0]\n",
        "    function_name = function_name.split(' ')[1]\n",
        "    return function_name\n",
        "\n",
        "function_names = []\n",
        "for function in list_module_functions('/content/pdf_generator/sql_core.py'):\n",
        "    function_names.append(get_function_name(function))\n",
        "\n",
        "dict_module_functions = {}\n",
        "for path in list_files_in_colab_folder('/content/pdf_generator'):\n",
        "  function_names = []\n",
        "  for function in list_module_functions('/content/pdf_generator/' + path):\n",
        "    function_names.append(get_function_name(function))\n",
        "  dict_module_functions[path] = function_names\n",
        "print(dict_module_functions)\n",
        "     \n",
        "\n",
        "for module in dict_module_functions:\n",
        "  print(\"----\" + module + \"-----\")\n",
        "  %run $module\n",
        "  %load $module\n",
        "\n",
        "from pprint import pprint\n",
        "pprint(dict_module_functions)\n",
        "\n",
        "\n",
        "def print_function_imports(modules_functions):\n",
        "    for module, functions in modules_functions.items():\n",
        "        for function in functions:\n",
        "            module_name = module[:-3]\n",
        "            print(f\"from {module_name} import {function}\")\n",
        "\n",
        "print_function_imports(dict_module_functions)"
      ]
    },
    {
      "cell_type": "code",
      "source": [
        "#@title area de ensayos\n",
        "from pages_to_pdf import pages_to_pdf\n",
        "from sql_core import connect_disconnect\n",
        "from sql_core import create_table\n",
        "from sql_core import insert_record\n",
        "from sql_core import insert_several_records\n",
        "from sql_core import read_records\n",
        "from sql_core import read_last_record\n",
        "from sql_core import update_record\n",
        "from sql_core import remove_record\n",
        "from sql_core import run_command\n",
        "from str_to_block import get_string_width\n",
        "from str_to_block import split_string\n",
        "from list_functions import split_string_into_lines\n",
        "from list_functions import detect_if_is_a_python_function\n",
        "from list_functions import read_file\n",
        "from list_functions import list_module_functions"
      ],
      "metadata": {
        "colab": {
          "base_uri": "https://localhost:8080/"
        },
        "cellView": "form",
        "id": "xRAWwAPm0NrE",
        "outputId": "e733fac1-9f68-4386-b710-0c6804c4b844"
      },
      "execution_count": 2,
      "outputs": [
        {
          "output_type": "stream",
          "name": "stdout",
          "text": [
            "['Hello World, this is a test to see if the function works how it should. ', 'I hope it does, otherwise I will have to fix it. ']\n",
            "\n",
            "for function in list_module_functions('/content/pdf_generator/sql_core.py'):\n",
            "    print(function)\n",
            "    \n",
            "def connect_disconnect(func):\n",
            "def create_table( database_name , table_name , table_structure ):\n",
            "def insert_record(database_name, record):\n",
            "def insert_several_records(database_name, multiple_records):\n",
            "def read_records(database_name, table_name):\n",
            "def read_last_record(database_name, table_name):\n",
            "def update_record(database_name, record):\n",
            "def remove_record(database_name, record):\n",
            "def run_command(database_name, command):\n"
          ]
        }
      ]
    },
    {
      "cell_type": "code",
      "source": [
        "\n",
        "get_string_width(\"/content/pdf_generator/Ubuntu-Regular.ttf\",\"hola\")\n",
        "block = split_string(\"Hi i am a string to test if the split lines function works well. This text should be splitted in lines\",650)\n",
        "print(block)\n",
        "page = [block, block]\n",
        "book = [page, page]\n",
        "pages_to_pdf(book,\"textbook.pdf\")"
      ],
      "metadata": {
        "colab": {
          "base_uri": "https://localhost:8080/"
        },
        "id": "2MPlCLty026t",
        "outputId": "e5490828-b01c-4f84-88ed-bdbb07a6240d"
      },
      "execution_count": 5,
      "outputs": [
        {
          "output_type": "stream",
          "name": "stdout",
          "text": [
            "['Hi i am a string to test if the split lines function works well. This text ', 'should be splitted in lines ']\n"
          ]
        }
      ]
    }
  ]
}