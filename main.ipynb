{
  "nbformat": 4,
  "nbformat_minor": 0,
  "metadata": {
    "colab": {
      "provenance": [],
      "authorship_tag": "ABX9TyPnUafXTWWdKOJL7C6Aivr+",
      "include_colab_link": true
    },
    "kernelspec": {
      "name": "python3",
      "display_name": "Python 3"
    },
    "language_info": {
      "name": "python"
    }
  },
  "cells": [
    {
      "cell_type": "markdown",
      "metadata": {
        "id": "view-in-github",
        "colab_type": "text"
      },
      "source": [
        "<a href=\"https://colab.research.google.com/github/GenaroHacker/pdf_generator/blob/main/main.ipynb\" target=\"_parent\"><img src=\"https://colab.research.google.com/assets/colab-badge.svg\" alt=\"Open In Colab\"/></a>"
      ]
    },
    {
      "cell_type": "code",
      "execution_count": null,
      "metadata": {
        "id": "PUyluuy4N_q9"
      },
      "outputs": [],
      "source": [
        "from str_to_block import get_string_width, split_string\n",
        "from pages_to_pdf import pages_to_pdf\n",
        "from sql_interface import start_database, insert_block\n",
        "from sql_interface import read_blocks\n",
        "\n",
        "get_string_width(\"Ubuntu-Regular.ttf\", \"Hello World\")\n",
        "MAX_STRING_WITH_ALLOWED = 615\n",
        "split_string(\"Hello World, this is a test to see if the function works how it should. I hope it does, otherwise I will have to fix it.\", MAX_STRING_WITH_ALLOWED)\n",
        "#pages_to_pdf(pages)\n",
        "\n",
        "\n",
        "start_database()\n",
        "insert_block(\"h1\", \"Hello World, this is a test to see if the function works how it should. I hope it does, otherwise I will have to fix it.\")\n",
        "print(read_blocks())"
      ]
    }
  ]
}