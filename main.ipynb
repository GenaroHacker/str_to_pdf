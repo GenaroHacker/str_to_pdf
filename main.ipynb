{
  "nbformat": 4,
  "nbformat_minor": 0,
  "metadata": {
    "colab": {
      "provenance": [],
      "authorship_tag": "ABX9TyOFGiJdPmoGbEGnM9XdFL4L",
      "include_colab_link": true
    },
    "kernelspec": {
      "name": "python3",
      "display_name": "Python 3"
    },
    "language_info": {
      "name": "python"
    }
  },
  "cells": [
    {
      "cell_type": "markdown",
      "metadata": {
        "id": "view-in-github",
        "colab_type": "text"
      },
      "source": [
        "<a href=\"https://colab.research.google.com/github/GenaroHacker/pdf_generator/blob/main/main.ipynb\" target=\"_parent\"><img src=\"https://colab.research.google.com/assets/colab-badge.svg\" alt=\"Open In Colab\"/></a>"
      ]
    },
    {
      "cell_type": "code",
      "execution_count": 26,
      "metadata": {
        "colab": {
          "base_uri": "https://localhost:8080/"
        },
        "id": "IsUAuIOKV_NX",
        "outputId": "1c5add60-c447-49d1-e3e8-e5129faeceb3"
      },
      "outputs": [
        {
          "output_type": "stream",
          "name": "stdout",
          "text": [
            "fatal: destination path 'pdf_generator' already exists and is not an empty directory.\n",
            "/content/pdf_generator\n",
            "grey_lines_text.pdf  pages_to_pdf.py  sql_core.py      Ubuntu-Regular.ttf\n",
            "main.ipynb           \u001b[0m\u001b[01;34mpdf_generator\u001b[0m/   str_to_block.py\n"
          ]
        }
      ],
      "source": [
        "!git clone https://github.com/GenaroHacker/pdf_generator.git\n",
        "%cd /content/pdf_generator\n",
        "if True:\n",
        "  %ls\n",
        "%run sql_core.py"
      ]
    }
  ]
}