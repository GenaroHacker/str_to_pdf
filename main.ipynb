{
  "nbformat": 4,
  "nbformat_minor": 0,
  "metadata": {
    "colab": {
      "provenance": [],
      "authorship_tag": "ABX9TyPBaQ5trt71ITFY4/vpgj9p",
      "include_colab_link": true
    },
    "kernelspec": {
      "name": "python3",
      "display_name": "Python 3"
    },
    "language_info": {
      "name": "python"
    }
  },
  "cells": [
    {
      "cell_type": "markdown",
      "metadata": {
        "id": "view-in-github",
        "colab_type": "text"
      },
      "source": [
        "<a href=\"https://colab.research.google.com/github/GenaroHacker/pdf_generator/blob/main/main.ipynb\" target=\"_parent\"><img src=\"https://colab.research.google.com/assets/colab-badge.svg\" alt=\"Open In Colab\"/></a>"
      ]
    },
    {
      "cell_type": "code",
      "execution_count": 1,
      "metadata": {
        "id": "IsUAuIOKV_NX",
        "outputId": "b3ffe1f7-7727-4d1d-98d9-052224e6ca3a",
        "colab": {
          "base_uri": "https://localhost:8080/",
          "height": 1000
        }
      },
      "outputs": [
        {
          "output_type": "stream",
          "name": "stdout",
          "text": [
            "Cloning into 'pdf_generator'...\n",
            "remote: Enumerating objects: 168, done.\u001b[K\n",
            "remote: Counting objects: 100% (12/12), done.\u001b[K\n",
            "remote: Compressing objects: 100% (12/12), done.\u001b[K\n",
            "remote: Total 168 (delta 5), reused 0 (delta 0), pack-reused 156\u001b[K\n",
            "Receiving objects: 100% (168/168), 215.10 KiB | 4.14 MiB/s, done.\n",
            "Resolving deltas: 100% (98/98), done.\n",
            "/content/pdf_generator\n",
            "insert_text_into_table.py  main.ipynb       sql_core.py      Ubuntu-Regular.ttf\n",
            "list_functions.py          pages_to_pdf.py  str_to_block.py\n",
            "\n",
            "for function in list_module_functions('/content/pdf_generator/sql_core.py'):\n",
            "    print(function)\n",
            "    \n",
            "def create_table( database_name , table_name , table_structure ):\n",
            "def insert_record(database_name, record):\n",
            "def insert_several_records(database_name, multiple_records):\n",
            "def read_records(database_name, table_name):\n",
            "def read_last_record(database_name, table_name):\n",
            "def update_record(database_name, record):\n",
            "def remove_record(database_name, record):\n",
            "def run_command(database_name, command):\n",
            "Looking in indexes: https://pypi.org/simple, https://us-python.pkg.dev/colab-wheels/public/simple/\n",
            "Collecting reportlab\n",
            "  Downloading reportlab-3.6.12-cp38-cp38-manylinux_2_17_x86_64.manylinux2014_x86_64.whl (2.8 MB)\n",
            "\u001b[2K     \u001b[90m━━━━━━━━━━━━━━━━━━━━━━━━━━━━━━━━━━━━━━━━\u001b[0m \u001b[32m2.8/2.8 MB\u001b[0m \u001b[31m20.0 MB/s\u001b[0m eta \u001b[36m0:00:00\u001b[0m\n",
            "\u001b[?25hCollecting pillow>=9.0.0\n",
            "  Downloading Pillow-9.4.0-cp38-cp38-manylinux_2_28_x86_64.whl (3.4 MB)\n",
            "\u001b[2K     \u001b[90m━━━━━━━━━━━━━━━━━━━━━━━━━━━━━━━━━━━━━━━━\u001b[0m \u001b[32m3.4/3.4 MB\u001b[0m \u001b[31m22.2 MB/s\u001b[0m eta \u001b[36m0:00:00\u001b[0m\n",
            "\u001b[?25hInstalling collected packages: pillow, reportlab\n",
            "  Attempting uninstall: pillow\n",
            "    Found existing installation: Pillow 8.4.0\n",
            "    Uninstalling Pillow-8.4.0:\n",
            "      Successfully uninstalled Pillow-8.4.0\n",
            "Successfully installed pillow-9.4.0 reportlab-3.6.12\n"
          ]
        },
        {
          "output_type": "display_data",
          "data": {
            "application/vnd.colab-display-data+json": {
              "pip_warning": {
                "packages": [
                  "PIL"
                ]
              }
            }
          },
          "metadata": {}
        },
        {
          "output_type": "stream",
          "name": "stdout",
          "text": [
            "{'pages_to_pdf.py': ['pages_to_pdf'], 'insert_text_into_table.py': ['split_text_into_lines', 'insert_text_into_table'], 'list_functions.py': ['split_string_into_lines', 'detect_if_is_a_python_function', 'read_file', 'list_module_functions'], 'str_to_block.py': ['get_string_width', 'split_string'], 'sql_core.py': ['create_table', 'insert_record', 'insert_several_records', 'read_records', 'read_last_record', 'update_record', 'remove_record', 'run_command']}\n",
            "----pages_to_pdf.py-----\n",
            "----insert_text_into_table.py-----\n",
            "----list_functions.py-----\n",
            "\n",
            "for function in list_module_functions('/content/pdf_generator/sql_core.py'):\n",
            "    print(function)\n",
            "    \n",
            "def create_table( database_name , table_name , table_structure ):\n",
            "def insert_record(database_name, record):\n",
            "def insert_several_records(database_name, multiple_records):\n",
            "def read_records(database_name, table_name):\n",
            "def read_last_record(database_name, table_name):\n",
            "def update_record(database_name, record):\n",
            "def remove_record(database_name, record):\n",
            "def run_command(database_name, command):\n",
            "----str_to_block.py-----\n",
            "['Hello World, this is a test to see if the function works how it should. ', 'I hope it does, otherwise I will have to fix it. ']\n",
            "----sql_core.py-----\n",
            "{'insert_text_into_table.py': ['split_text_into_lines',\n",
            "                               'insert_text_into_table'],\n",
            " 'list_functions.py': ['split_string_into_lines',\n",
            "                       'detect_if_is_a_python_function',\n",
            "                       'read_file',\n",
            "                       'list_module_functions'],\n",
            " 'pages_to_pdf.py': ['pages_to_pdf'],\n",
            " 'sql_core.py': ['create_table',\n",
            "                 'insert_record',\n",
            "                 'insert_several_records',\n",
            "                 'read_records',\n",
            "                 'read_last_record',\n",
            "                 'update_record',\n",
            "                 'remove_record',\n",
            "                 'run_command'],\n",
            " 'str_to_block.py': ['get_string_width', 'split_string']}\n",
            "from pages_to_pdf import pages_to_pdf\n",
            "from insert_text_into_table import split_text_into_lines\n",
            "from insert_text_into_table import insert_text_into_table\n",
            "from list_functions import split_string_into_lines\n",
            "from list_functions import detect_if_is_a_python_function\n",
            "from list_functions import read_file\n",
            "from list_functions import list_module_functions\n",
            "from str_to_block import get_string_width\n",
            "from str_to_block import split_string\n",
            "from sql_core import create_table\n",
            "from sql_core import insert_record\n",
            "from sql_core import insert_several_records\n",
            "from sql_core import read_records\n",
            "from sql_core import read_last_record\n",
            "from sql_core import update_record\n",
            "from sql_core import remove_record\n",
            "from sql_core import run_command\n"
          ]
        }
      ],
      "source": [
        "#@title commited\n",
        "\n",
        "!git clone https://github.com/GenaroHacker/pdf_generator.git\n",
        "%cd /content/pdf_generator\n",
        "if True:\n",
        "  %ls\n",
        "%run list_functions.py\n",
        "\n",
        "\n",
        "from PIL import ImageFont\n",
        "\n",
        "\n",
        "!pip install reportlab\n",
        "\n",
        "\n",
        "#The funtion takes a path to a file in colaboratory and returns a list of its files ending with .py in the following format:\n",
        "#Input '/cotent/pdf_generator/sql_core.py'\n",
        "#Output ['sql_core.py']\n",
        "import os\n",
        "def list_files_in_colab_folder(path):\n",
        "    files = []\n",
        "    for file in os.listdir(path):\n",
        "        if file.endswith('.py'):\n",
        "            files.append(file)\n",
        "    return files\n",
        "\n",
        "my_modules = list_files_in_colab_folder('/content/pdf_generator')\n",
        "\n",
        "\n",
        "\n",
        "#Input \"def get_string_width(font_path, string):\"\n",
        "#Output \"get_string_width\"\n",
        "def get_function_name(string):\n",
        "    function_name = string.split('(')[0]\n",
        "    function_name = function_name.split(' ')[1]\n",
        "    return function_name\n",
        "\n",
        "function_names = []\n",
        "for function in list_module_functions('/content/pdf_generator/sql_core.py'):\n",
        "    function_names.append(get_function_name(function))\n",
        "\n",
        "dict_module_functions = {}\n",
        "for path in list_files_in_colab_folder('/content/pdf_generator'):\n",
        "  function_names = []\n",
        "  for function in list_module_functions('/content/pdf_generator/' + path):\n",
        "    function_names.append(get_function_name(function))\n",
        "  dict_module_functions[path] = function_names\n",
        "print(dict_module_functions)\n",
        "     \n",
        "\n",
        "for module in dict_module_functions:\n",
        "  print(\"----\" + module + \"-----\")\n",
        "  %run $module\n",
        "  %load $module\n",
        "\n",
        "from pprint import pprint\n",
        "pprint(dict_module_functions)\n",
        "\n",
        "\n",
        "def print_function_imports(modules_functions):\n",
        "    for module, functions in modules_functions.items():\n",
        "        for function in functions:\n",
        "            module_name = module[:-3]\n",
        "            print(f\"from {module_name} import {function}\")\n",
        "\n",
        "print_function_imports(dict_module_functions)"
      ]
    },
    {
      "cell_type": "code",
      "source": [
        "#@title area de ensayos\n",
        "from str_to_block import get_string_width\n",
        "from str_to_block import split_string\n",
        "from pages_to_pdf import pages_to_pdf\n",
        "from list_functions import split_string_into_lines\n",
        "from list_functions import detect_if_is_a_python_function\n",
        "from list_functions import read_file\n",
        "from list_functions import list_module_functions\n",
        "from insert_text_into_table import split_text_into_lines\n",
        "from insert_text_into_table import insert_text_into_table\n",
        "from sql_core import create_table\n",
        "from sql_core import insert_record\n",
        "from sql_core import insert_several_records\n",
        "from sql_core import read_records\n",
        "from sql_core import read_last_record\n",
        "from sql_core import update_record\n",
        "from sql_core import remove_record\n",
        "from sql_core import run_command"
      ],
      "metadata": {
        "id": "xRAWwAPm0NrE",
        "colab": {
          "base_uri": "https://localhost:8080/"
        },
        "outputId": "01f8acb5-5be3-4bc6-eb64-a7e5be7a4595"
      },
      "execution_count": 2,
      "outputs": [
        {
          "output_type": "stream",
          "name": "stdout",
          "text": [
            "['Hello World, this is a test to see if the function works how it should. ', 'I hope it does, otherwise I will have to fix it. ']\n",
            "\n",
            "for function in list_module_functions('/content/pdf_generator/sql_core.py'):\n",
            "    print(function)\n",
            "    \n",
            "def create_table( database_name , table_name , table_structure ):\n",
            "def insert_record(database_name, record):\n",
            "def insert_several_records(database_name, multiple_records):\n",
            "def read_records(database_name, table_name):\n",
            "def read_last_record(database_name, table_name):\n",
            "def update_record(database_name, record):\n",
            "def remove_record(database_name, record):\n",
            "def run_command(database_name, command):\n"
          ]
        }
      ]
    },
    {
      "cell_type": "code",
      "source": [
        "\n",
        "get_string_width(\"/content/pdf_generator/Ubuntu-Regular.ttf\",\"hola\")\n",
        "block = split_string(\"Effectiveness is the art of balancing efficiency with purpose. Don't just rush to tick off your to-do list, pause to evaluate if it's moving you closer to your goals. Stay organized, delegate when possible, and don't shy away from seeking help. Let's crush those objectives!\",600)\n",
        "pprint(block)\n",
        "page = [block, block]\n",
        "book = [page, page]\n",
        "pages_to_pdf(book,\"textbook.pdf\")"
      ],
      "metadata": {
        "colab": {
          "base_uri": "https://localhost:8080/"
        },
        "id": "2MPlCLty026t",
        "outputId": "88d68f93-ffc8-4d43-8e73-a4531d61da42"
      },
      "execution_count": 3,
      "outputs": [
        {
          "output_type": "stream",
          "name": "stdout",
          "text": [
            "[\"Effectiveness is the art of balancing efficiency with purpose. Don't \",\n",
            " \"just rush to tick off your to-do list, pause to evaluate if it's moving \",\n",
            " 'you closer to your goals. Stay organized, delegate when possible, ',\n",
            " \"and don't shy away from seeking help. Let's crush those \",\n",
            " 'objectives! ']\n"
          ]
        }
      ]
    },
    {
      "cell_type": "code",
      "source": [
        "#Create one Table\n",
        "columns = \"\"\"\n",
        "        ID INTEGER PRIMARY KEY AUTOINCREMENT,\n",
        "        TAG VARCHAR(280),\n",
        "        BLOCK VARCHAR(280)\"\"\"\n",
        "create_table(\"base_blocks\",\"table_blocks\",columns)\n",
        "\n",
        "#Insert one record\n",
        "insert_record(\"base_blocks\",\"INSERT INTO table_blocks VALUES (NULL,'BALL','SPORT')\")\n",
        "#Record inserted successfully!\n",
        "\n",
        "\n",
        "#Insert one record\n",
        "insert_record(\"base_blocks\",\"INSERT INTO table_blocks VALUES (NULL,'BALL','SPORT')\")\n",
        "#Record inserted successfully!\n",
        "\n",
        "\n",
        "#Read all records\n",
        "list_of_tuples = read_records(\"base_blocks\",\"table_blocks\")\n",
        "pprint(list_of_tuples)\n",
        "#Read last record\n",
        "last_record = read_last_record(\"base_blocks\",\"table_blocks\")\n",
        "\n",
        "#Update record\n",
        "update_record(\"base_blocks\",\"UPDATE table_blocks SET BLOCK='BLOCK NAME UPDATED' WHERE ID=2\")\n",
        "#The record with ID=3 has been updated successfully!\n",
        "\n",
        "#Remove record\n",
        "remove_record(\"base_blocks\",\"DELETE FROM table_blocks WHERE ID=1\")\n",
        "#The record with ID=4 has been removed successfully!"
      ],
      "metadata": {
        "colab": {
          "base_uri": "https://localhost:8080/"
        },
        "id": "5onuD0fDpaFC",
        "outputId": "c60ad338-fb63-4fee-ba8b-f7f5f3654c92"
      },
      "execution_count": 4,
      "outputs": [
        {
          "output_type": "stream",
          "name": "stdout",
          "text": [
            "[(1, 'BALL', 'SPORT'), (2, 'BALL', 'SPORT')]\n"
          ]
        }
      ]
    },
    {
      "cell_type": "code",
      "source": [
        "example_text = \"this is some example textthis is sthisthis is some example text  is some example text this is some example text ome example text this is some example text  this is some this is some example text this is some example text example text this is some example text this is some example text \"\n",
        "tweetlenght = len(example_text)\n",
        "print(len(example_text))\n",
        "insert_text_into_table(\"this is some example text\",\n",
        "                       \"tag\",\"base_blocks\",\"table_blocks\")"
      ],
      "metadata": {
        "id": "Wxn6FMm9ILCr",
        "colab": {
          "base_uri": "https://localhost:8080/"
        },
        "outputId": "ad66a6c8-00b6-4380-d22a-24359fa2f635"
      },
      "execution_count": 5,
      "outputs": [
        {
          "output_type": "stream",
          "name": "stdout",
          "text": [
            "286\n"
          ]
        }
      ]
    },
    {
      "cell_type": "code",
      "source": [
        "#@title generate a pages structure from a list of tuples\n",
        "#-- expected input: -----------\n",
        "#(id, tag, text)\n",
        "list_of_tuples = [(7, 'vegetable', 'this is some text about vegetables'),(4, 'vehicles', 'this is some text about vehicles')]\n",
        "#-- expected output: ----------\n",
        "#each text (list_of_tuples[2]) should be converted to a block\n",
        "#only blocks that match the tags are going to be picked\n",
        "block = split_string(\"Effectiveness is the art of balancing efficiency with purpose. Don't just rush to tick off your to-do list, pause to evaluate if it's moving you closer to your goals. Stay organized, delegate when possible, and don't shy away from seeking help. Let's crush those objectives!\",600)\n",
        "\n",
        "\n",
        "page_1 = [['wwwwwwwwwwwwwwwwwwwwwwwwwwwwwwwwwwwwwwwww', 'day, the sun is shining ', 'and the birds are ', \"chirping. I can't wait to \", 'go for a walk and ', 'enjoy the fresh air. '],\n",
        " ['I love cooking, ', 'experimenting with ', 'new ingredients and ', 'flavors. Yesterday, I ', 'made a delicious ', 'chicken curry that my ', 'family really enjoyed. '],\n",
        " [\"I'm so excited to start \", 'my new job next week, ', \"it's a great opportunity \", 'for me to learn and ', 'grow in my career. ']\n",
        " ]\n",
        "\n",
        "page_2 = [\n",
        " ['Hello World, this is a test to see if the function works how it should. I ',\n",
        "  'hope it does, otherwise I will have to fix it. '],\n",
        " ['I enjoy traveling and ', 'exploring new places. ', 'Last summer, I went ', 'on a road trip across ', 'the United States and ', 'visited some amazing ', 'national parks. '],\n",
        " ['Music is a big part of ', 'my life, I listen to it ', \"when I'm happy, sad, \", 'or just need to relax. ', 'My favorite band is ', 'Radiohead, their music ', 'is so unique and ', 'beautiful. ']\n",
        " ]\n",
        "\n",
        "page_3 = [\n",
        " [\"I'm a coffee addict, I \", \"can't start my day \", 'without a good cup of ', 'coffee. I like to try ', 'different blends and ', 'roasts to find my ', 'perfect cup. '],\n",
        " [\"I'm passionate about \", 'sustainability and ', 'taking care of the ', 'planet. I try to reduce ', 'my waste and use ', 'eco-friendly products ', 'whenever possible. '],\n",
        " ['I love spending time ', 'with my family and ', \"friends, whether it's \", 'going out to eat or just ', 'hanging out at home. ', \"It's always a good time \", \"when we're together. \"]\n",
        " ]\n",
        "\n",
        "pages = [page_1, page_2, page_3]\n",
        "\n",
        "print(type(pages))\n",
        "#<class 'list'>   pages\n",
        "print(type(pages[0]))\n",
        "#<class 'list'>   page\n",
        "print(type(pages[0][0]))\n",
        "#<class 'list'>   block\n",
        "print(type(pages[0][0][0]))\n",
        "#<class 'str'>  line\n",
        "\n",
        "def list_of_tuples_to_pages(list_of_tuples, tags):\n",
        "    from random import shuffle\n",
        "    pages = []\n",
        "    for tag in tags:\n",
        "        page = []\n",
        "        for tuple in list_of_tuples:\n",
        "            if tuple[1] == tag:\n",
        "                block = split_string(tuple[2],600)\n",
        "                page.append(block)\n",
        "        shuffle(page)\n",
        "        pages.append(page)\n",
        "    return pages\n",
        "\n",
        "#Read all records\n",
        "list_of_tuples = read_records(\"base_blocks\",\"table_blocks\")\n",
        "pprint(list_of_tuples)\n",
        "\n",
        "tags = ['vegetable', 'vehicles']\n",
        "pages = list_of_tuples_to_pages(list_of_tuples, tags)\n",
        "print(pages)\n",
        "pages_to_pdf(pages,\"textbookk.pdf\")"
      ],
      "metadata": {
        "id": "xmFjTeksMXUS",
        "outputId": "fb11bbbb-09ec-467b-9427-dc487d38aa83",
        "colab": {
          "base_uri": "https://localhost:8080/"
        }
      },
      "execution_count": 6,
      "outputs": [
        {
          "output_type": "stream",
          "name": "stdout",
          "text": [
            "<class 'list'>\n",
            "<class 'list'>\n",
            "<class 'list'>\n",
            "<class 'str'>\n",
            "[(2, 'BALL', 'BLOCK NAME UPDATED')]\n",
            "[[], []]\n"
          ]
        }
      ]
    },
    {
      "cell_type": "code",
      "source": [
        "def list_of_tuples_to_pages(list_of_tuples, tags, amount_of_pages=3):\n",
        "    from random import shuffle\n",
        "    pages = []\n",
        "    for i in range(amount_of_pages):\n",
        "        page = []\n",
        "        for tuple in list_of_tuples:\n",
        "            if tuple[1] in tags:\n",
        "                block = split_string(tuple[2],600)\n",
        "                page.append(block)\n",
        "        shuffle(page)\n",
        "        pages.append(page)\n",
        "    return pages\n",
        "\n",
        "\n",
        "tags = ['tag', 'vehicles']\n",
        "pages = list_of_tuples_to_pages(list_of_tuples, tags)\n",
        "print(pages)\n",
        "pages_to_pdf(pages,\"too_much_text.pdf\")"
      ],
      "metadata": {
        "id": "A0R5A5s8OXrj",
        "outputId": "e9c93b3d-06e8-4454-e6b3-b87dd893c1c9",
        "colab": {
          "base_uri": "https://localhost:8080/"
        }
      },
      "execution_count": 7,
      "outputs": [
        {
          "output_type": "stream",
          "name": "stdout",
          "text": [
            "[[], [], []]\n"
          ]
        }
      ]
    }
  ]
}