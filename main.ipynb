{
  "nbformat": 4,
  "nbformat_minor": 0,
  "metadata": {
    "colab": {
      "provenance": [],
      "authorship_tag": "ABX9TyO3EWBZTR74OcuzKyqNLUnh",
      "include_colab_link": true
    },
    "kernelspec": {
      "name": "python3",
      "display_name": "Python 3"
    },
    "language_info": {
      "name": "python"
    }
  },
  "cells": [
    {
      "cell_type": "markdown",
      "metadata": {
        "id": "view-in-github",
        "colab_type": "text"
      },
      "source": [
        "<a href=\"https://colab.research.google.com/github/GenaroHacker/str_to_pdf/blob/main/main.ipynb\" target=\"_parent\"><img src=\"https://colab.research.google.com/assets/colab-badge.svg\" alt=\"Open In Colab\"/></a>"
      ]
    },
    {
      "cell_type": "code",
      "execution_count": 1,
      "metadata": {
        "id": "IsUAuIOKV_NX",
        "cellView": "form"
      },
      "outputs": [],
      "source": [
        "#@title Import\n",
        "%%capture\n",
        "!git clone https://github.com/GenaroHacker/str_to_pdf.git\n",
        "%cd /content/str_to_pdf\n",
        "%run list_functions.py\n",
        "from PIL import ImageFont\n",
        "!pip install reportlab\n",
        "\n",
        "\n",
        "#@title imports\n",
        "from pages_to_pdf import pages_to_pdf\n",
        "from pages_to_pdf import empty_text\n",
        "from pages_to_pdf import list_of_tuples_to_pages\n",
        "from insert_text_into_table import split_text_into_lines\n",
        "from insert_text_into_table import insert_text_into_table\n",
        "from list_functions import split_string_into_lines\n",
        "from list_functions import detect_if_is_a_python_function\n",
        "from list_functions import read_file\n",
        "from list_functions import list_module_functions\n",
        "from str_to_block import get_string_width\n",
        "from str_to_block import split_string\n",
        "from sql_core import create_table\n",
        "from sql_core import insert_record\n",
        "from sql_core import insert_several_records\n",
        "from sql_core import read_records\n",
        "from sql_core import read_last_record\n",
        "from sql_core import update_record\n",
        "from sql_core import remove_record\n",
        "from sql_core import run_command\n",
        "\n",
        "\n",
        "#@title testing after imports\n",
        "\n",
        "#get_string_width(\"/content/pdf_generator/Ubuntu-Regular.ttf\",\"hola\")\n",
        "#block = split_string(\"Effectiveness is the art of balancing efficiency with purpose. Don't just rush to tick off your to-do list, pause to evaluate if it's moving you closer to your goals. Stay organized, delegate when possible, and don't shy away from seeking help. Let's crush those objectives!\",600)\n",
        "#pprint(block)\n",
        "#page = [block, block]\n",
        "#book = [page, page]\n",
        "#Create one Table\n",
        "columns = \"\"\"\n",
        "        ID INTEGER PRIMARY KEY AUTOINCREMENT,\n",
        "        TAG VARCHAR(280),\n",
        "        BLOCK VARCHAR(280)\"\"\"\n",
        "create_table(\"base_blocks\",\"table_blocks\",columns)\n",
        "\n",
        "\n",
        "def db_to_pdf(db_name, table_name, tags,n_pages, pdf_name, empty_coeficient):\n",
        "  #Read all records\n",
        "  list_of_tuples = read_records(db_name,table_name)\n",
        "  pages = list_of_tuples_to_pages(list_of_tuples, tags,amount_of_pages=n_pages,coeficient=empty_coeficient)\n",
        "  print(pages)\n",
        "  pages_to_pdf(pages,pdf_name)\n",
        "\n",
        "\n",
        "def dict_to_pdf(dict_interface):\n",
        "    from random import randint\n",
        "    tag = str(randint(0, 100000000))\n",
        "    insert_text_into_table(dict_interface[\"input_text\"],tag,\"base_blocks\",\"table_blocks\")\n",
        "    db_to_pdf(\"base_blocks\", \"table_blocks\", [tag],dict_interface[\"amount of pages\"], dict_interface[\"file name\"],dict_interface[\"empty space\"])\n",
        "\n",
        "\n",
        "#insert_text_into_table(INPUT_TEXT,\"effective_verbs\",\"base_blocks\",\"table_blocks\")\n",
        "#db_to_pdf(\"base_blocks\", \"table_blocks\", [\"effective_verbs\"],4, \"new_file.pdf\",0.6)"
      ]
    },
    {
      "cell_type": "code",
      "source": [
        "#@title Playground\n",
        "INPUT_TEXT = \"\"\"\n",
        "\n",
        "achieve act direction advance apply focus evaluate assign help attack automate reward drive build calculate change choose clarify classify train collaborate communicate compete fulfill compose commit confirm connect consult continue transmit convince cooperate coordinate create cultivate personalize decide define delegate deliver design detect determine develop diagnose direct discover diversify manage win educate emphasize encourage improve establish examine exceed execute exercise expand expect implement achieve act direction advance apply focus evaluate assign help attack automate reward drive build calculate change choose clarify classify train collaborate communicate compete fulfill compose commitment confirm connect consult continue convey convince cooperate coordinate create cultivate personalize decide define delegate deliver design detect determine develop diagnose direct discover diversify manage win educate emphasize encourage improve establish examine exceed execute exercise expand expect implement achieve act direction move forward apply focus evaluate allocate help attack automate reward drive build calculate change choose clarify classify train collaborate communicate compete fulfill compose commit commit confirm connect consult continue convey convince cooperate coordinate create cultivate customize decide define delegate deliver design detect determine develop diagnose lead discover diversify manage win educate emphasize encourage improve establish examine exceed execute exercise expand wait implement achieve act direction advance apply focus evaluate allocate help attack automate reward drive build calculate change choose clarify classify train collaborate communicate compete comply compose commitment confirm connect consult continue transmit agree ncer cooperate coordinate create cultivate personalize decide define delegate deliver design detect determine develop diagnose direct discover diversify manage win educate emphasize encourage improve establish examine exceed execute exercise expand wait implement achieve act direction advance apply focus evaluate allocate help attack automate reward drive build calculate change choose clarify classify train collaborate communicate compete fulfill compose compromise confirm connect consult continue transmit convince cooperate coordinate create cultivate customize decide define delegate deliver design detect determine develop diagnose direct discover diversify manage\n",
        "\n",
        "\"\"\"\n",
        "\n",
        "dict_to_pdf({\n",
        "    \"input_text\": INPUT_TEXT,\n",
        "    \"file name\": \"OUTPUT.pdf\",\n",
        "    \"amount of pages\": 4,\n",
        "    \"empty space\": 0.8\n",
        "})"
      ],
      "metadata": {
        "colab": {
          "base_uri": "https://localhost:8080/"
        },
        "id": "gH45VeTk5Bqu",
        "outputId": "f6a92c9a-8af1-424e-9fc0-7ab1074e5c65"
      },
      "execution_count": 3,
      "outputs": [
        {
          "output_type": "stream",
          "name": "stdout",
          "text": [
            "Inserted 8 blocks into table table_blocks with tag 64863556\n",
            "[[['                      change                               ', '            communicate                                       ', '                                        convince           ', 'coordinate        cultivate customize decide                 ', '        design                         '], ['                      change choose         classify train ', '                                                              ', '                consult continue                           ', 'coordinate                                                   ', '                                       '], ['deliver        detect                   diagnose        discover ', '                                                 improve ', '                                 exercise               ', '          achieve                    forward             ', '                  help attack                 '], ['                                                               ', '       automate reward                                     ', '                                                       fulfill ', '                               consult continue          ', 'convince                      create '], ['                                                                   ', '                                                                ', '                                                             ', '                                         achieve               ', '                         '], ['                                                              ', '                                                             ', '                        commitment                         ', 'continue                 cooperate            create           ', '                          delegate ']], [['                                develop                          ', '          manage win educate           encourage         ', '                                 exercise expand        ', '          achieve     direction      forward             ', '                                       reward '], ['                                                              ', '              clarify          train             communicate ', 'compete                                                    ', 'continue        convince                                       ', '            decide                 '], ['                 attack                                       ', 'change        clarify          train                         ', 'compete         compose commitment                         ', '                                                     cultivate ', 'personalize                        '], ['                      decide                                       ', '                                                                ', '                            improve                          ', '                               implement                       ', '                         '], ['           lead          diversify                              ', '                  establish         exceed                  ', '                              act                         focus ', '                       attack automate                    ', 'calculate change choose         cl '], ['                        automate              build calculate ', '                                                             ', '                                                           ', '         convey          cooperate                             ', 'personalize                        ']], [['             collaborate                                    ', '                                                     agree ', 'ncer cooperate                   cultivate                    ', '                deliver design                          ', '         direct                             '], ['      build           change                               ', '            communicate                                commit ', '                        continue                 cooperate ', '                                                             ', 'deliver                                '], ['uate        help attack                                       ', '       choose clarify classify       collaborate             ', '        fulfill                    confirm connect consult ', '                                                               ', 'personalize                        '], ['                                        drive build calculate ', '                                                 communicate ', '                        commitment                         ', '                                              create           ', '                          delegate '], ['drive build                                                ', '                                                              ', 'confirm                                                    ', 'coordinate        cultivate           decide                 ', '                                       '], ['                                develop          direct          ', '                             emphasize encourage         ', '          examine                                       ', '                      direction move forward             ', '         allocate                             ']], [['                                                            ', 'commitment                                           agree ', '                                                              ', 'define delegate                       determine         ', 'diagnose                                    '], ['                                                         ', '                                                          ', '                                                help attack ', '                            calculate        choose         ', '               collaborate                    '], ['drive                                                      ', '            communicate                 compose               ', 'confirm                                                    ', '                                      decide        delegate ', '        design                         '], ['             collaborate             compete                ', '           confirm         consult                         ', 'ncer cooperate                                                ', '                        design detect                   ', '                         diversify manage   '], ['                                          win                   ', '                                                   exercise ', 'expand wait                       direction         apply       ', 'evaluate                                      drive       ', '          change choose clarify    '], ['                                                                   ', '                  diagnose direct                           win ', '        emphasize encourage                                  ', '                                                 act direction ', '                         ']]]\n"
          ]
        }
      ]
    }
  ]
}