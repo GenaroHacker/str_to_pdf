{
  "nbformat": 4,
  "nbformat_minor": 0,
  "metadata": {
    "colab": {
      "provenance": [],
      "authorship_tag": "ABX9TyPoZSjorrr6BuZl5SuyCRaz",
      "include_colab_link": true
    },
    "kernelspec": {
      "name": "python3",
      "display_name": "Python 3"
    },
    "language_info": {
      "name": "python"
    }
  },
  "cells": [
    {
      "cell_type": "markdown",
      "metadata": {
        "id": "view-in-github",
        "colab_type": "text"
      },
      "source": [
        "<a href=\"https://colab.research.google.com/github/GenaroHacker/pdf_generator/blob/main/main.ipynb\" target=\"_parent\"><img src=\"https://colab.research.google.com/assets/colab-badge.svg\" alt=\"Open In Colab\"/></a>"
      ]
    },
    {
      "cell_type": "code",
      "execution_count": 1,
      "metadata": {
        "id": "IsUAuIOKV_NX"
      },
      "outputs": [],
      "source": [
        "%%capture\n",
        "!git clone https://github.com/GenaroHacker/pdf_generator.git\n",
        "%cd /content/pdf_generator\n",
        "if True:\n",
        "  %ls\n",
        "%run sql_core.py\n",
        "!pip install reportlab\n",
        "%run list_functions.py"
      ]
    },
    {
      "cell_type": "code",
      "source": [
        "\n",
        "#The funtions recives a string and prints a title with the string in the middle\n",
        "#Input \"Hello World\"\n",
        "#Output \"\"\"\n",
        "# \n",
        "#      | Hello World |\n",
        "\n",
        "# \"\"\"\n",
        "def print_title(string):\n",
        "    print(\"\"\"\n",
        "    \n",
        "    | {} |\n",
        "    \n",
        "    \"\"\".format(string))\n",
        "\n",
        "#test 6\n",
        "print_title('Hello World')"
      ],
      "metadata": {
        "outputId": "8a62ed37-f6d5-43e6-9830-b130a3c79764",
        "colab": {
          "base_uri": "https://localhost:8080/"
        },
        "id": "bUmmnIeEDojF"
      },
      "execution_count": 3,
      "outputs": [
        {
          "output_type": "stream",
          "name": "stdout",
          "text": [
            "\n",
            "    \n",
            "    | Hello World |\n",
            "    \n",
            "    \n"
          ]
        }
      ]
    },
    {
      "cell_type": "code",
      "source": [
        "#The funtion takes a path to a file in colaboratory and returns a list of its files ending with .py in the following format:\n",
        "#Input '/cotent/pdf_generator/sql_core.py'\n",
        "#Output ['sql_core.py']\n",
        "import os\n",
        "def list_files_in_colab_folder(path):\n",
        "    files = []\n",
        "    for file in os.listdir(path):\n",
        "        if file.endswith('.py'):\n",
        "            files.append(file)\n",
        "    return files\n",
        "\n",
        "print_title('Functions')\n",
        "#test 4\n",
        "my_modules = list_files_in_colab_folder('/content/pdf_generator')\n",
        "\n",
        "\n",
        "for module in my_modules:\n",
        "  print(\"--- \" + module)\n",
        "  for function in list_module_functions('/content/pdf_generator/' + module):\n",
        "    print(function)\n",
        "print_title('sql_core')\n",
        "\n",
        "#Input \"def get_string_width(font_path, string):\"\n",
        "#Output \"get_string_width\"\n",
        "def get_function_name(string):\n",
        "    function_name = string.split('(')[0]\n",
        "    function_name = function_name.split(' ')[1]\n",
        "    return function_name\n",
        "\n",
        "#test 5\n",
        "function_names = []\n",
        "for function in list_module_functions('/content/pdf_generator/sql_core.py'):\n",
        "    function_names.append(get_function_name(function))\n",
        "print(function_names)\n",
        "\n",
        "\n",
        "\n",
        "\n",
        "\n",
        "#test 6\n",
        "print_title('Hello World')"
      ],
      "metadata": {
        "colab": {
          "base_uri": "https://localhost:8080/"
        },
        "id": "rB37ICM2FhRS",
        "outputId": "582f61b1-3113-4db0-e10e-87db1d71412c"
      },
      "execution_count": 4,
      "outputs": [
        {
          "output_type": "stream",
          "name": "stdout",
          "text": [
            "\n",
            "    \n",
            "    | Functions |\n",
            "    \n",
            "    \n",
            "--- str_to_block.py\n",
            "def get_string_width(font_path, string):\n",
            "def split_string(string, max_width):\n",
            "--- list_functions.py\n",
            "def split_string_into_lines(string):\n",
            "def detect_if_is_a_python_function(string):\n",
            "def read_file(file_name):\n",
            "def list_module_functions(file_name):\n",
            "--- pages_to_pdf.py\n",
            "def pages_to_pdf(pages):\n",
            "--- sql_core.py\n",
            "def connect_disconnect(func):\n",
            "def create_table( database_name , table_name , table_structure ):\n",
            "def insert_record(database_name, record):\n",
            "def insert_several_records(database_name, multiple_records):\n",
            "def read_records(database_name, table_name):\n",
            "def read_last_record(database_name, table_name):\n",
            "def update_record(database_name, record):\n",
            "def remove_record(database_name, record):\n",
            "def run_command(database_name, command):\n",
            "\n",
            "    \n",
            "    | sql_core |\n",
            "    \n",
            "    \n",
            "['connect_disconnect', 'create_table', 'insert_record', 'insert_several_records', 'read_records', 'read_last_record', 'update_record', 'remove_record', 'run_command']\n",
            "\n",
            "    \n",
            "    | Hello World |\n",
            "    \n",
            "    \n"
          ]
        }
      ]
    }
  ]
}