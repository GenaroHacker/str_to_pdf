{
  "nbformat": 4,
  "nbformat_minor": 0,
  "metadata": {
    "colab": {
      "provenance": [],
      "authorship_tag": "ABX9TyNN+tuEw3cQYF46erpbYqYy",
      "include_colab_link": true
    },
    "kernelspec": {
      "name": "python3",
      "display_name": "Python 3"
    },
    "language_info": {
      "name": "python"
    }
  },
  "cells": [
    {
      "cell_type": "markdown",
      "metadata": {
        "id": "view-in-github",
        "colab_type": "text"
      },
      "source": [
        "<a href=\"https://colab.research.google.com/github/GenaroHacker/pdf_generator/blob/main/main.ipynb\" target=\"_parent\"><img src=\"https://colab.research.google.com/assets/colab-badge.svg\" alt=\"Open In Colab\"/></a>"
      ]
    },
    {
      "cell_type": "code",
      "execution_count": 3,
      "metadata": {
        "colab": {
          "base_uri": "https://localhost:8080/"
        },
        "id": "IsUAuIOKV_NX",
        "outputId": "e17abf63-765a-480d-de3d-d02397ffea56"
      },
      "outputs": [
        {
          "output_type": "stream",
          "name": "stdout",
          "text": [
            "fatal: destination path 'pdf_generator' already exists and is not an empty directory.\n",
            "/content/pdf_generator\n",
            "BaseProducts         main.ipynb       \u001b[0m\u001b[01;34mpdf_generator\u001b[0m/  str_to_block.py\n",
            "grey_lines_text.pdf  pages_to_pdf.py  sql_core.py     Ubuntu-Regular.ttf\n",
            "Looking in indexes: https://pypi.org/simple, https://us-python.pkg.dev/colab-wheels/public/simple/\n",
            "Requirement already satisfied: reportlab in /usr/local/lib/python3.8/dist-packages (3.6.12)\n",
            "Requirement already satisfied: pillow>=9.0.0 in /usr/local/lib/python3.8/dist-packages (from reportlab) (9.4.0)\n"
          ]
        }
      ],
      "source": [
        "!git clone https://github.com/GenaroHacker/pdf_generator.git\n",
        "%cd /content/pdf_generator\n",
        "if True:\n",
        "  %ls\n",
        "%run sql_core.py\n",
        "!pip install reportlab"
      ]
    }
  ]
}