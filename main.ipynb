{
  "nbformat": 4,
  "nbformat_minor": 0,
  "metadata": {
    "colab": {
      "provenance": [],
      "authorship_tag": "ABX9TyO2HEZvxcA7UDbwXeDUHdo/",
      "include_colab_link": true
    },
    "kernelspec": {
      "name": "python3",
      "display_name": "Python 3"
    },
    "language_info": {
      "name": "python"
    }
  },
  "cells": [
    {
      "cell_type": "markdown",
      "metadata": {
        "id": "view-in-github",
        "colab_type": "text"
      },
      "source": [
        "<a href=\"https://colab.research.google.com/github/GenaroHacker/pdf_generator/blob/main/main.ipynb\" target=\"_parent\"><img src=\"https://colab.research.google.com/assets/colab-badge.svg\" alt=\"Open In Colab\"/></a>"
      ]
    },
    {
      "cell_type": "code",
      "execution_count": 21,
      "metadata": {
        "id": "IsUAuIOKV_NX",
        "outputId": "2bd7bbb5-454f-4d13-d0c9-46262729c050",
        "colab": {
          "base_uri": "https://localhost:8080/"
        }
      },
      "outputs": [
        {
          "output_type": "stream",
          "name": "stdout",
          "text": [
            "Cloning into 'pdf_generator'...\n",
            "remote: Enumerating objects: 177, done.\u001b[K\n",
            "remote: Counting objects: 100% (21/21), done.\u001b[K\n",
            "remote: Compressing objects: 100% (21/21), done.\u001b[K\n",
            "remote: Total 177 (delta 11), reused 0 (delta 0), pack-reused 156\u001b[K\n",
            "Receiving objects: 100% (177/177), 217.68 KiB | 454.00 KiB/s, done.\n",
            "Resolving deltas: 100% (104/104), done.\n",
            "/content/pdf_generator\n",
            "base_blocks                main.ipynb       sql_core.py      too_much_text.pdf\n",
            "BaseProducts               pages_to_pdf.py  str_to_block.py  Ubuntu-Regular.ttf\n",
            "insert_text_into_table.py  \u001b[0m\u001b[01;34mpdf_generator\u001b[0m/   textbookk.pdf\n",
            "list_functions.py          \u001b[01;34m__pycache__\u001b[0m/     textbook.pdf\n",
            "\n",
            "for function in list_module_functions('/content/pdf_generator/sql_core.py'):\n",
            "    print(function)\n",
            "    \n",
            "def create_table( database_name , table_name , table_structure ):\n",
            "def insert_record(database_name, record):\n",
            "def insert_several_records(database_name, multiple_records):\n",
            "def read_records(database_name, table_name):\n",
            "def read_last_record(database_name, table_name):\n",
            "def update_record(database_name, record):\n",
            "def remove_record(database_name, record):\n",
            "def run_command(database_name, command):\n",
            "Looking in indexes: https://pypi.org/simple, https://us-python.pkg.dev/colab-wheels/public/simple/\n",
            "Requirement already satisfied: reportlab in /usr/local/lib/python3.8/dist-packages (3.6.12)\n",
            "Requirement already satisfied: pillow>=9.0.0 in /usr/local/lib/python3.8/dist-packages (from reportlab) (9.4.0)\n",
            "{'pages_to_pdf.py': ['pages_to_pdf'], 'insert_text_into_table.py': ['split_text_into_lines', 'insert_text_into_table'], 'list_functions.py': ['split_string_into_lines', 'detect_if_is_a_python_function', 'read_file', 'list_module_functions'], 'str_to_block.py': ['get_string_width', 'split_string'], 'sql_core.py': ['create_table', 'insert_record', 'insert_several_records', 'read_records', 'read_last_record', 'update_record', 'remove_record', 'run_command']}\n",
            "----pages_to_pdf.py-----\n",
            "----insert_text_into_table.py-----\n",
            "----list_functions.py-----\n",
            "\n",
            "for function in list_module_functions('/content/pdf_generator/sql_core.py'):\n",
            "    print(function)\n",
            "    \n",
            "def create_table( database_name , table_name , table_structure ):\n",
            "def insert_record(database_name, record):\n",
            "def insert_several_records(database_name, multiple_records):\n",
            "def read_records(database_name, table_name):\n",
            "def read_last_record(database_name, table_name):\n",
            "def update_record(database_name, record):\n",
            "def remove_record(database_name, record):\n",
            "def run_command(database_name, command):\n",
            "----str_to_block.py-----\n",
            "['Hello World, this is a test to see if the function works how it should. ', 'I hope it does, otherwise I will have to fix it. ']\n",
            "----sql_core.py-----\n",
            "{'insert_text_into_table.py': ['split_text_into_lines',\n",
            "                               'insert_text_into_table'],\n",
            " 'list_functions.py': ['split_string_into_lines',\n",
            "                       'detect_if_is_a_python_function',\n",
            "                       'read_file',\n",
            "                       'list_module_functions'],\n",
            " 'pages_to_pdf.py': ['pages_to_pdf'],\n",
            " 'sql_core.py': ['create_table',\n",
            "                 'insert_record',\n",
            "                 'insert_several_records',\n",
            "                 'read_records',\n",
            "                 'read_last_record',\n",
            "                 'update_record',\n",
            "                 'remove_record',\n",
            "                 'run_command'],\n",
            " 'str_to_block.py': ['get_string_width', 'split_string']}\n",
            "from pages_to_pdf import pages_to_pdf\n",
            "from insert_text_into_table import split_text_into_lines\n",
            "from insert_text_into_table import insert_text_into_table\n",
            "from list_functions import split_string_into_lines\n",
            "from list_functions import detect_if_is_a_python_function\n",
            "from list_functions import read_file\n",
            "from list_functions import list_module_functions\n",
            "from str_to_block import get_string_width\n",
            "from str_to_block import split_string\n",
            "from sql_core import create_table\n",
            "from sql_core import insert_record\n",
            "from sql_core import insert_several_records\n",
            "from sql_core import read_records\n",
            "from sql_core import read_last_record\n",
            "from sql_core import update_record\n",
            "from sql_core import remove_record\n",
            "from sql_core import run_command\n"
          ]
        }
      ],
      "source": [
        "#@title commited\n",
        "\n",
        "!git clone https://github.com/GenaroHacker/pdf_generator.git\n",
        "%cd /content/pdf_generator\n",
        "if True:\n",
        "  %ls\n",
        "%run list_functions.py\n",
        "\n",
        "\n",
        "from PIL import ImageFont\n",
        "\n",
        "\n",
        "!pip install reportlab\n",
        "\n",
        "\n",
        "#The funtion takes a path to a file in colaboratory and returns a list of its files ending with .py in the following format:\n",
        "#Input '/cotent/pdf_generator/sql_core.py'\n",
        "#Output ['sql_core.py']\n",
        "import os\n",
        "def list_files_in_colab_folder(path):\n",
        "    files = []\n",
        "    for file in os.listdir(path):\n",
        "        if file.endswith('.py'):\n",
        "            files.append(file)\n",
        "    return files\n",
        "\n",
        "my_modules = list_files_in_colab_folder('/content/pdf_generator')\n",
        "\n",
        "\n",
        "\n",
        "#Input \"def get_string_width(font_path, string):\"\n",
        "#Output \"get_string_width\"\n",
        "def get_function_name(string):\n",
        "    function_name = string.split('(')[0]\n",
        "    function_name = function_name.split(' ')[1]\n",
        "    return function_name\n",
        "\n",
        "function_names = []\n",
        "for function in list_module_functions('/content/pdf_generator/sql_core.py'):\n",
        "    function_names.append(get_function_name(function))\n",
        "\n",
        "dict_module_functions = {}\n",
        "for path in list_files_in_colab_folder('/content/pdf_generator'):\n",
        "  function_names = []\n",
        "  for function in list_module_functions('/content/pdf_generator/' + path):\n",
        "    function_names.append(get_function_name(function))\n",
        "  dict_module_functions[path] = function_names\n",
        "print(dict_module_functions)\n",
        "     \n",
        "\n",
        "for module in dict_module_functions:\n",
        "  print(\"----\" + module + \"-----\")\n",
        "  %run $module\n",
        "  %load $module\n",
        "\n",
        "from pprint import pprint\n",
        "pprint(dict_module_functions)\n",
        "\n",
        "\n",
        "def print_function_imports(modules_functions):\n",
        "    for module, functions in modules_functions.items():\n",
        "        for function in functions:\n",
        "            module_name = module[:-3]\n",
        "            print(f\"from {module_name} import {function}\")\n",
        "\n",
        "print_function_imports(dict_module_functions)"
      ]
    },
    {
      "cell_type": "code",
      "source": [
        "#@title area de ensayos\n",
        "from str_to_block import get_string_width\n",
        "from str_to_block import split_string\n",
        "from pages_to_pdf import pages_to_pdf\n",
        "from list_functions import split_string_into_lines\n",
        "from list_functions import detect_if_is_a_python_function\n",
        "from list_functions import read_file\n",
        "from list_functions import list_module_functions\n",
        "from insert_text_into_table import split_text_into_lines\n",
        "from insert_text_into_table import insert_text_into_table\n",
        "from sql_core import create_table\n",
        "from sql_core import insert_record\n",
        "from sql_core import insert_several_records\n",
        "from sql_core import read_records\n",
        "from sql_core import read_last_record\n",
        "from sql_core import update_record\n",
        "from sql_core import remove_record\n",
        "from sql_core import run_command"
      ],
      "metadata": {
        "id": "xRAWwAPm0NrE"
      },
      "execution_count": 22,
      "outputs": []
    },
    {
      "cell_type": "code",
      "source": [
        "\n",
        "get_string_width(\"/content/pdf_generator/Ubuntu-Regular.ttf\",\"hola\")\n",
        "block = split_string(\"Effectiveness is the art of balancing efficiency with purpose. Don't just rush to tick off your to-do list, pause to evaluate if it's moving you closer to your goals. Stay organized, delegate when possible, and don't shy away from seeking help. Let's crush those objectives!\",600)\n",
        "pprint(block)\n",
        "page = [block, block]\n",
        "book = [page, page]\n",
        "pages_to_pdf(book,\"textbook.pdf\")"
      ],
      "metadata": {
        "colab": {
          "base_uri": "https://localhost:8080/"
        },
        "id": "2MPlCLty026t",
        "outputId": "c6f6a1a7-6703-4652-f2b4-8b75cbf8d66e"
      },
      "execution_count": 23,
      "outputs": [
        {
          "output_type": "stream",
          "name": "stdout",
          "text": [
            "[\"Effectiveness is the art of balancing efficiency with purpose. Don't \",\n",
            " \"just rush to tick off your to-do list, pause to evaluate if it's moving \",\n",
            " 'you closer to your goals. Stay organized, delegate when possible, ',\n",
            " \"and don't shy away from seeking help. Let's crush those \",\n",
            " 'objectives! ']\n"
          ]
        }
      ]
    },
    {
      "cell_type": "code",
      "source": [
        "#Create one Table\n",
        "columns = \"\"\"\n",
        "        ID INTEGER PRIMARY KEY AUTOINCREMENT,\n",
        "        TAG VARCHAR(280),\n",
        "        BLOCK VARCHAR(280)\"\"\"\n",
        "create_table(\"base_blocks\",\"table_blocks\",columns)\n",
        "\n",
        "#Insert one record\n",
        "insert_record(\"base_blocks\",\"INSERT INTO table_blocks VALUES (NULL,'this is some example textthis is sthisthis is some example text  is some example text this is some example text ome example text this is some example text  this is some this is some example text this is some example text example text this is some example text this is some example text ','SPORT')\")\n",
        "#Record inserted successfully!\n",
        "\n",
        "\n",
        "#Read all records\n",
        "list_of_tuples = read_records(\"base_blocks\",\"table_blocks\")\n",
        "pprint(list_of_tuples)\n",
        "#Read last record\n",
        "last_record = read_last_record(\"base_blocks\",\"table_blocks\")\n",
        "\n",
        "#Update record\n",
        "update_record(\"base_blocks\",\"UPDATE table_blocks SET BLOCK='BLOCK NAME UPDATED' WHERE ID=2\")\n",
        "#The record with ID=3 has been updated successfully!\n",
        "\n",
        "#Remove record\n",
        "#remove_record(\"base_blocks\",\"DELETE FROM table_blocks WHERE ID=1\")\n",
        "#The record with ID=4 has been removed successfully!"
      ],
      "metadata": {
        "colab": {
          "base_uri": "https://localhost:8080/"
        },
        "id": "5onuD0fDpaFC",
        "outputId": "72df1054-9e52-4b48-dbbd-2231d1f50539"
      },
      "execution_count": 24,
      "outputs": [
        {
          "output_type": "stream",
          "name": "stdout",
          "text": [
            "[(1,\n",
            "  'this is some example textthis is sthisthis is some example text  is some '\n",
            "  'example text this is some example text ome example text this is some '\n",
            "  'example text  this is some this is some example text this is some example '\n",
            "  'text example text this is some example text this is some example text ',\n",
            "  'SPORT'),\n",
            " (2,\n",
            "  'this is some example textthis is sthisthis is some example text  is some '\n",
            "  'example text this is some example text ome example text this is some '\n",
            "  'example text  this is some this is some example text this is some example '\n",
            "  'text example text this is some example text this is some example text ',\n",
            "  'SPORT')]\n"
          ]
        }
      ]
    },
    {
      "cell_type": "code",
      "source": [
        "example_text = \"this is some example textthis is sthisthis is some example text  is some example text this is some example text ome example text this is some example text  this is some this is some example text this is some example text example text this is some example text this is some example text \"\n",
        "tweetlenght = len(example_text)\n",
        "print(len(example_text))\n",
        "insert_text_into_table(\"this is some example text\",\n",
        "                       \"tag\",\"base_blocks\",\"table_blocks\")"
      ],
      "metadata": {
        "id": "Wxn6FMm9ILCr",
        "colab": {
          "base_uri": "https://localhost:8080/"
        },
        "outputId": "33cabc8a-26c9-419b-9e5c-f15257c6eafa"
      },
      "execution_count": 25,
      "outputs": [
        {
          "output_type": "stream",
          "name": "stdout",
          "text": [
            "286\n"
          ]
        }
      ]
    },
    {
      "cell_type": "code",
      "source": [
        "#@title generate a pages structure from a list of tuples\n",
        "#-- expected input: -----------\n",
        "#(id, tag, text)\n",
        "list_of_tuples = [(7, 'vegetable', 'this is some text about vegetables'),(4, 'vehicles', 'this is some text about vehicles')]\n",
        "#-- expected output: ----------\n",
        "#each text (list_of_tuples[2]) should be converted to a block\n",
        "#only blocks that match the tags are going to be picked\n",
        "block = split_string(\"Effectiveness is the art of balancing efficiency with purpose. Don't just rush to tick off your to-do list, pause to evaluate if it's moving you closer to your goals. Stay organized, delegate when possible, and don't shy away from seeking help. Let's crush those objectives!\",600)\n",
        "\n",
        "\n",
        "page_1 = [['wwwwwwwwwwwwwwwwwwwwwwwwwwwwwwwwwwwwwwwww', 'day, the sun is shining ', 'and the birds are ', \"chirping. I can't wait to \", 'go for a walk and ', 'enjoy the fresh air. '],\n",
        " ['I love cooking, ', 'experimenting with ', 'new ingredients and ', 'flavors. Yesterday, I ', 'made a delicious ', 'chicken curry that my ', 'family really enjoyed. '],\n",
        " [\"I'm so excited to start \", 'my new job next week, ', \"it's a great opportunity \", 'for me to learn and ', 'grow in my career. ']\n",
        " ]\n",
        "\n",
        "page_2 = [\n",
        " ['Hello World, this is a test to see if the function works how it should. I ',\n",
        "  'hope it does, otherwise I will have to fix it. '],\n",
        " ['I enjoy traveling and ', 'exploring new places. ', 'Last summer, I went ', 'on a road trip across ', 'the United States and ', 'visited some amazing ', 'national parks. '],\n",
        " ['Music is a big part of ', 'my life, I listen to it ', \"when I'm happy, sad, \", 'or just need to relax. ', 'My favorite band is ', 'Radiohead, their music ', 'is so unique and ', 'beautiful. ']\n",
        " ]\n",
        "\n",
        "page_3 = [\n",
        " [\"I'm a coffee addict, I \", \"can't start my day \", 'without a good cup of ', 'coffee. I like to try ', 'different blends and ', 'roasts to find my ', 'perfect cup. '],\n",
        " [\"I'm passionate about \", 'sustainability and ', 'taking care of the ', 'planet. I try to reduce ', 'my waste and use ', 'eco-friendly products ', 'whenever possible. '],\n",
        " ['I love spending time ', 'with my family and ', \"friends, whether it's \", 'going out to eat or just ', 'hanging out at home. ', \"It's always a good time \", \"when we're together. \"]\n",
        " ]\n",
        "\n",
        "pages = [page_1, page_2, page_3]\n",
        "\n",
        "print(type(pages))\n",
        "#<class 'list'>   pages\n",
        "print(type(pages[0]))\n",
        "#<class 'list'>   page\n",
        "print(type(pages[0][0]))\n",
        "#<class 'list'>   block\n",
        "print(type(pages[0][0][0]))\n",
        "#<class 'str'>  line\n",
        "\n",
        "def list_of_tuples_to_pages(list_of_tuples, tags):\n",
        "    from random import shuffle\n",
        "    pages = []\n",
        "    for tag in tags:\n",
        "        page = []\n",
        "        for tuple in list_of_tuples:\n",
        "            if tuple[1] == tag:\n",
        "                block = split_string(tuple[2],600)\n",
        "                page.append(block)\n",
        "        shuffle(page)\n",
        "        pages.append(page)\n",
        "    return pages\n",
        "\n",
        "#Read all records\n",
        "list_of_tuples = read_records(\"base_blocks\",\"table_blocks\")\n",
        "pprint(list_of_tuples)\n",
        "\n",
        "tags = ['vegetable', 'vehicles']\n",
        "pages = list_of_tuples_to_pages(list_of_tuples, tags)\n",
        "print(pages)\n",
        "pages_to_pdf(pages,\"textbookk.pdf\")"
      ],
      "metadata": {
        "id": "xmFjTeksMXUS",
        "outputId": "d9edd2c1-2403-462c-a55b-1f309f0de2b4",
        "colab": {
          "base_uri": "https://localhost:8080/"
        }
      },
      "execution_count": 26,
      "outputs": [
        {
          "output_type": "stream",
          "name": "stdout",
          "text": [
            "<class 'list'>\n",
            "<class 'list'>\n",
            "<class 'list'>\n",
            "<class 'str'>\n",
            "[(1,\n",
            "  'this is some example textthis is sthisthis is some example text  is some '\n",
            "  'example text this is some example text ome example text this is some '\n",
            "  'example text  this is some this is some example text this is some example '\n",
            "  'text example text this is some example text this is some example text ',\n",
            "  'SPORT'),\n",
            " (2,\n",
            "  'this is some example textthis is sthisthis is some example text  is some '\n",
            "  'example text this is some example text ome example text this is some '\n",
            "  'example text  this is some this is some example text this is some example '\n",
            "  'text example text this is some example text this is some example text ',\n",
            "  'BLOCK NAME UPDATED')]\n",
            "[[], []]\n"
          ]
        }
      ]
    },
    {
      "cell_type": "code",
      "source": [
        "def list_of_tuples_to_pages(list_of_tuples, tags, amount_of_pages=3):\n",
        "    from random import choice\n",
        "    pages = []\n",
        "    for i in range(amount_of_pages):\n",
        "        page = []\n",
        "        for j in range(3):\n",
        "            block = []\n",
        "            #choice\n",
        "            random_tag = choice(tags)\n",
        "            #filter\n",
        "            filtered_list_of_tuples = []\n",
        "            for tuple in list_of_tuples:\n",
        "                if tuple[1] == random_tag:\n",
        "                    filtered_list_of_tuples.append(tuple)\n",
        "            #choice\n",
        "            if len(filtered_list_of_tuples) > 0:\n",
        "                random_tuple = choice(filtered_list_of_tuples)\n",
        "                #split\n",
        "                block = split_string(random_tuple[2],600)\n",
        "            page.append(block)\n",
        "        pages.append(page)\n",
        "    return pages\n",
        "\n",
        "\n",
        "tags = ['vegetable']\n",
        "list_of_tuples = [(7, 'vegetable', 'Effectiveness is the art of balancing efficiency with purpose. Dont just rush to tick off your to-do list, pause to evaluate if its moving you closer to your goals. Stay organized, delegate when possible, and dont shy away from seeking help. Lets crush those objectives!'     )]\n",
        "pages = list_of_tuples_to_pages(list_of_tuples, tags, amount_of_pages=3)\n",
        "print(pages)\n",
        "pages_to_pdf(pages,\"wesee.pdf\")"
      ],
      "metadata": {
        "id": "A0R5A5s8OXrj",
        "outputId": "df550b51-522b-4353-ba57-65034776226b",
        "colab": {
          "base_uri": "https://localhost:8080/"
        }
      },
      "execution_count": 45,
      "outputs": [
        {
          "output_type": "stream",
          "name": "stdout",
          "text": [
            "[[['Effectiveness is the art of balancing efficiency with purpose. Dont ', 'just rush to tick off your to-do list, pause to evaluate if its moving ', 'you closer to your goals. Stay organized, delegate when possible, ', 'and dont shy away from seeking help. Lets crush those objectives! '], ['Effectiveness is the art of balancing efficiency with purpose. Dont ', 'just rush to tick off your to-do list, pause to evaluate if its moving ', 'you closer to your goals. Stay organized, delegate when possible, ', 'and dont shy away from seeking help. Lets crush those objectives! '], ['Effectiveness is the art of balancing efficiency with purpose. Dont ', 'just rush to tick off your to-do list, pause to evaluate if its moving ', 'you closer to your goals. Stay organized, delegate when possible, ', 'and dont shy away from seeking help. Lets crush those objectives! ']], [['Effectiveness is the art of balancing efficiency with purpose. Dont ', 'just rush to tick off your to-do list, pause to evaluate if its moving ', 'you closer to your goals. Stay organized, delegate when possible, ', 'and dont shy away from seeking help. Lets crush those objectives! '], ['Effectiveness is the art of balancing efficiency with purpose. Dont ', 'just rush to tick off your to-do list, pause to evaluate if its moving ', 'you closer to your goals. Stay organized, delegate when possible, ', 'and dont shy away from seeking help. Lets crush those objectives! '], ['Effectiveness is the art of balancing efficiency with purpose. Dont ', 'just rush to tick off your to-do list, pause to evaluate if its moving ', 'you closer to your goals. Stay organized, delegate when possible, ', 'and dont shy away from seeking help. Lets crush those objectives! ']], [['Effectiveness is the art of balancing efficiency with purpose. Dont ', 'just rush to tick off your to-do list, pause to evaluate if its moving ', 'you closer to your goals. Stay organized, delegate when possible, ', 'and dont shy away from seeking help. Lets crush those objectives! '], ['Effectiveness is the art of balancing efficiency with purpose. Dont ', 'just rush to tick off your to-do list, pause to evaluate if its moving ', 'you closer to your goals. Stay organized, delegate when possible, ', 'and dont shy away from seeking help. Lets crush those objectives! '], ['Effectiveness is the art of balancing efficiency with purpose. Dont ', 'just rush to tick off your to-do list, pause to evaluate if its moving ', 'you closer to your goals. Stay organized, delegate when possible, ', 'and dont shy away from seeking help. Lets crush those objectives! ']]]\n"
          ]
        }
      ]
    }
  ]
}