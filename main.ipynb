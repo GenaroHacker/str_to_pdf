{
  "nbformat": 4,
  "nbformat_minor": 0,
  "metadata": {
    "colab": {
      "provenance": [],
      "authorship_tag": "ABX9TyNUHnMZP+eeh0m8ruClHNmv",
      "include_colab_link": true
    },
    "kernelspec": {
      "name": "python3",
      "display_name": "Python 3"
    },
    "language_info": {
      "name": "python"
    }
  },
  "cells": [
    {
      "cell_type": "markdown",
      "metadata": {
        "id": "view-in-github",
        "colab_type": "text"
      },
      "source": [
        "<a href=\"https://colab.research.google.com/github/GenaroHacker/pdf_generator/blob/main/main.ipynb\" target=\"_parent\"><img src=\"https://colab.research.google.com/assets/colab-badge.svg\" alt=\"Open In Colab\"/></a>"
      ]
    },
    {
      "cell_type": "code",
      "execution_count": 8,
      "metadata": {
        "id": "IsUAuIOKV_NX",
        "outputId": "d344246e-2808-4273-ba60-9f6ec8054006",
        "colab": {
          "base_uri": "https://localhost:8080/",
          "height": 1000
        },
        "cellView": "form"
      },
      "outputs": [
        {
          "output_type": "stream",
          "name": "stdout",
          "text": [
            "Cloning into 'pdf_generator'...\n",
            "remote: Enumerating objects: 126, done.\u001b[K\n",
            "remote: Counting objects: 100% (126/126), done.\u001b[K\n",
            "remote: Compressing objects: 100% (122/122), done.\u001b[K\n",
            "remote: Total 126 (delta 71), reused 13 (delta 2), pack-reused 0\u001b[K\n",
            "Receiving objects: 100% (126/126), 197.58 KiB | 14.11 MiB/s, done.\n",
            "Resolving deltas: 100% (71/71), done.\n",
            "/content/pdf_generator\n",
            "list_functions.py  pages_to_pdf.py  str_to_block.py\n",
            "main.ipynb         sql_core.py      Ubuntu-Regular.ttf\n",
            "\n",
            "for function in list_module_functions('/content/pdf_generator/sql_core.py'):\n",
            "    print(function)\n",
            "    \n",
            "def create_table( database_name , table_name , table_structure ):\n",
            "def insert_record(database_name, record):\n",
            "def insert_several_records(database_name, multiple_records):\n",
            "def read_records(database_name, table_name):\n",
            "def read_last_record(database_name, table_name):\n",
            "def update_record(database_name, record):\n",
            "def remove_record(database_name, record):\n",
            "def run_command(database_name, command):\n",
            "Looking in indexes: https://pypi.org/simple, https://us-python.pkg.dev/colab-wheels/public/simple/\n",
            "Collecting reportlab\n",
            "  Downloading reportlab-3.6.12-cp38-cp38-manylinux_2_17_x86_64.manylinux2014_x86_64.whl (2.8 MB)\n",
            "\u001b[2K     \u001b[90m━━━━━━━━━━━━━━━━━━━━━━━━━━━━━━━━━━━━━━━━\u001b[0m \u001b[32m2.8/2.8 MB\u001b[0m \u001b[31m56.1 MB/s\u001b[0m eta \u001b[36m0:00:00\u001b[0m\n",
            "\u001b[?25hCollecting pillow>=9.0.0\n",
            "  Downloading Pillow-9.4.0-cp38-cp38-manylinux_2_28_x86_64.whl (3.4 MB)\n",
            "\u001b[2K     \u001b[90m━━━━━━━━━━━━━━━━━━━━━━━━━━━━━━━━━━━━━━━━\u001b[0m \u001b[32m3.4/3.4 MB\u001b[0m \u001b[31m90.0 MB/s\u001b[0m eta \u001b[36m0:00:00\u001b[0m\n",
            "\u001b[?25hInstalling collected packages: pillow, reportlab\n",
            "  Attempting uninstall: pillow\n",
            "    Found existing installation: Pillow 8.4.0\n",
            "    Uninstalling Pillow-8.4.0:\n",
            "      Successfully uninstalled Pillow-8.4.0\n",
            "Successfully installed pillow-9.4.0 reportlab-3.6.12\n"
          ]
        },
        {
          "output_type": "display_data",
          "data": {
            "application/vnd.colab-display-data+json": {
              "pip_warning": {
                "packages": [
                  "PIL"
                ]
              }
            }
          },
          "metadata": {}
        },
        {
          "output_type": "stream",
          "name": "stdout",
          "text": [
            "{'str_to_block.py': ['get_string_width', 'split_string'], 'pages_to_pdf.py': ['pages_to_pdf'], 'list_functions.py': ['split_string_into_lines', 'detect_if_is_a_python_function', 'read_file', 'list_module_functions'], 'sql_core.py': ['create_table', 'insert_record', 'insert_several_records', 'read_records', 'read_last_record', 'update_record', 'remove_record', 'run_command']}\n",
            "----str_to_block.py-----\n",
            "['Hello World, this is a test to see if the function works how it should. ', 'I hope it does, otherwise I will have to fix it. ']\n",
            "----pages_to_pdf.py-----\n",
            "----list_functions.py-----\n",
            "\n",
            "for function in list_module_functions('/content/pdf_generator/sql_core.py'):\n",
            "    print(function)\n",
            "    \n",
            "def create_table( database_name , table_name , table_structure ):\n",
            "def insert_record(database_name, record):\n",
            "def insert_several_records(database_name, multiple_records):\n",
            "def read_records(database_name, table_name):\n",
            "def read_last_record(database_name, table_name):\n",
            "def update_record(database_name, record):\n",
            "def remove_record(database_name, record):\n",
            "def run_command(database_name, command):\n",
            "----sql_core.py-----\n",
            "{'list_functions.py': ['split_string_into_lines',\n",
            "                       'detect_if_is_a_python_function',\n",
            "                       'read_file',\n",
            "                       'list_module_functions'],\n",
            " 'pages_to_pdf.py': ['pages_to_pdf'],\n",
            " 'sql_core.py': ['create_table',\n",
            "                 'insert_record',\n",
            "                 'insert_several_records',\n",
            "                 'read_records',\n",
            "                 'read_last_record',\n",
            "                 'update_record',\n",
            "                 'remove_record',\n",
            "                 'run_command'],\n",
            " 'str_to_block.py': ['get_string_width', 'split_string']}\n",
            "from str_to_block import get_string_width\n",
            "from str_to_block import split_string\n",
            "from pages_to_pdf import pages_to_pdf\n",
            "from list_functions import split_string_into_lines\n",
            "from list_functions import detect_if_is_a_python_function\n",
            "from list_functions import read_file\n",
            "from list_functions import list_module_functions\n",
            "from sql_core import create_table\n",
            "from sql_core import insert_record\n",
            "from sql_core import insert_several_records\n",
            "from sql_core import read_records\n",
            "from sql_core import read_last_record\n",
            "from sql_core import update_record\n",
            "from sql_core import remove_record\n",
            "from sql_core import run_command\n"
          ]
        }
      ],
      "source": [
        "#@title commited\n",
        "\n",
        "!git clone https://github.com/GenaroHacker/pdf_generator.git\n",
        "%cd /content/pdf_generator\n",
        "if True:\n",
        "  %ls\n",
        "%run list_functions.py\n",
        "\n",
        "\n",
        "from PIL import ImageFont\n",
        "\n",
        "\n",
        "!pip install reportlab\n",
        "\n",
        "\n",
        "#The funtion takes a path to a file in colaboratory and returns a list of its files ending with .py in the following format:\n",
        "#Input '/cotent/pdf_generator/sql_core.py'\n",
        "#Output ['sql_core.py']\n",
        "import os\n",
        "def list_files_in_colab_folder(path):\n",
        "    files = []\n",
        "    for file in os.listdir(path):\n",
        "        if file.endswith('.py'):\n",
        "            files.append(file)\n",
        "    return files\n",
        "\n",
        "my_modules = list_files_in_colab_folder('/content/pdf_generator')\n",
        "\n",
        "\n",
        "\n",
        "#Input \"def get_string_width(font_path, string):\"\n",
        "#Output \"get_string_width\"\n",
        "def get_function_name(string):\n",
        "    function_name = string.split('(')[0]\n",
        "    function_name = function_name.split(' ')[1]\n",
        "    return function_name\n",
        "\n",
        "function_names = []\n",
        "for function in list_module_functions('/content/pdf_generator/sql_core.py'):\n",
        "    function_names.append(get_function_name(function))\n",
        "\n",
        "dict_module_functions = {}\n",
        "for path in list_files_in_colab_folder('/content/pdf_generator'):\n",
        "  function_names = []\n",
        "  for function in list_module_functions('/content/pdf_generator/' + path):\n",
        "    function_names.append(get_function_name(function))\n",
        "  dict_module_functions[path] = function_names\n",
        "print(dict_module_functions)\n",
        "     \n",
        "\n",
        "for module in dict_module_functions:\n",
        "  print(\"----\" + module + \"-----\")\n",
        "  %run $module\n",
        "  %load $module\n",
        "\n",
        "from pprint import pprint\n",
        "pprint(dict_module_functions)\n",
        "\n",
        "\n",
        "def print_function_imports(modules_functions):\n",
        "    for module, functions in modules_functions.items():\n",
        "        for function in functions:\n",
        "            module_name = module[:-3]\n",
        "            print(f\"from {module_name} import {function}\")\n",
        "\n",
        "print_function_imports(dict_module_functions)"
      ]
    },
    {
      "cell_type": "code",
      "source": [
        "#@title area de ensayos\n",
        "from pages_to_pdf import pages_to_pdf\n",
        "from sql_core import create_table\n",
        "from sql_core import insert_record\n",
        "from sql_core import insert_several_records\n",
        "from sql_core import read_records\n",
        "from sql_core import read_last_record\n",
        "from sql_core import update_record\n",
        "from sql_core import remove_record\n",
        "from sql_core import run_command\n",
        "from str_to_block import get_string_width\n",
        "from str_to_block import split_string\n",
        "from list_functions import split_string_into_lines\n",
        "from list_functions import detect_if_is_a_python_function\n",
        "from list_functions import read_file\n",
        "from list_functions import list_module_functions"
      ],
      "metadata": {
        "colab": {
          "base_uri": "https://localhost:8080/"
        },
        "id": "xRAWwAPm0NrE",
        "outputId": "f86e98da-eb57-45fd-c078-6552c08d4df1"
      },
      "execution_count": 9,
      "outputs": [
        {
          "output_type": "stream",
          "name": "stdout",
          "text": [
            "['Hello World, this is a test to see if the function works how it should. ', 'I hope it does, otherwise I will have to fix it. ']\n",
            "\n",
            "for function in list_module_functions('/content/pdf_generator/sql_core.py'):\n",
            "    print(function)\n",
            "    \n",
            "def create_table( database_name , table_name , table_structure ):\n",
            "def insert_record(database_name, record):\n",
            "def insert_several_records(database_name, multiple_records):\n",
            "def read_records(database_name, table_name):\n",
            "def read_last_record(database_name, table_name):\n",
            "def update_record(database_name, record):\n",
            "def remove_record(database_name, record):\n",
            "def run_command(database_name, command):\n"
          ]
        }
      ]
    },
    {
      "cell_type": "code",
      "source": [
        "\n",
        "get_string_width(\"/content/pdf_generator/Ubuntu-Regular.ttf\",\"hola\")\n",
        "block = split_string(\"Effectiveness is the art of balancing efficiency with purpose. Don't just rush to tick off your to-do list, pause to evaluate if it's moving you closer to your goals. Stay organized, delegate when possible, and don't shy away from seeking help. Let's crush those objectives!\",600)\n",
        "pprint(block)\n",
        "page = [block, block]\n",
        "book = [page, page]\n",
        "pages_to_pdf(book,\"textbook.pdf\")\n",
        "\n"
      ],
      "metadata": {
        "colab": {
          "base_uri": "https://localhost:8080/"
        },
        "id": "2MPlCLty026t",
        "outputId": "79e7cd43-bd50-4f88-bd0c-c06807e5bee1"
      },
      "execution_count": 15,
      "outputs": [
        {
          "output_type": "stream",
          "name": "stdout",
          "text": [
            "[\"Effectiveness is the art of balancing efficiency with purpose. Don't \",\n",
            " \"just rush to tick off your to-do list, pause to evaluate if it's moving \",\n",
            " 'you closer to your goals. Stay organized, delegate when possible, ',\n",
            " \"and don't shy away from seeking help. Let's crush those \",\n",
            " 'objectives! ']\n"
          ]
        }
      ]
    },
    {
      "cell_type": "code",
      "source": [
        "#Create one Table\n",
        "columns = \"\"\"\n",
        "        ID INTEGER PRIMARY KEY AUTOINCREMENT,\n",
        "        TAG VARCHAR(280),\n",
        "        BLOCK VARCHAR(280)\"\"\"\n",
        "create_table(\"base_blocks\",\"table_blocks\",columns)\n",
        "\n",
        "#Insert one record\n",
        "insert_record(\"base_blocks\",\"INSERT INTO table_blocks VALUES (NULL,'BALL','SPORT')\")\n",
        "#Record inserted successfully!\n",
        "\n",
        "\n",
        "#Insert one record\n",
        "insert_record(\"base_blocks\",\"INSERT INTO table_blocks VALUES (NULL,'BALL','SPORT')\")\n",
        "#Record inserted successfully!\n",
        "\n",
        "\n",
        "#Read all records\n",
        "list_of_tuples = read_records(\"base_blocks\",\"table_blocks\")\n",
        "pprint(list_of_tuples)\n",
        "#Read last record\n",
        "last_record = read_last_record(\"base_blocks\",\"table_blocks\")\n",
        "\n",
        "#Update record\n",
        "update_record(\"base_blocks\",\"UPDATE table_blocks SET BLOCK='BLOCK NAME UPDATED' WHERE ID=2\")\n",
        "#The record with ID=3 has been updated successfully!\n",
        "\n",
        "#Remove record\n",
        "remove_record(\"base_blocks\",\"DELETE FROM table_blocks WHERE ID=1\")\n",
        "#The record with ID=4 has been removed successfully!"
      ],
      "metadata": {
        "colab": {
          "base_uri": "https://localhost:8080/"
        },
        "id": "5onuD0fDpaFC",
        "outputId": "69e1ba93-386d-455d-a422-f67dc40b5965"
      },
      "execution_count": 11,
      "outputs": [
        {
          "output_type": "stream",
          "name": "stdout",
          "text": [
            "[(1, 'BALL', 'SPORT'), (2, 'BALL', 'SPORT')]\n"
          ]
        }
      ]
    },
    {
      "cell_type": "code",
      "source": [
        "#The function splits text inte lines of 280 characters each. The function returns a list of lines. The last line may contain less than 280 characters without breaking any word\n",
        "#It discards the last line\n",
        "def split_text_into_lines(text):\n",
        "    lines = []\n",
        "    for i in range(0, len(text), 280):\n",
        "        lines.append(text[i:i+280])\n",
        "    lines.pop()\n",
        "    return lines\n",
        "\n",
        "blocks = split_text_into_lines(\"\"\"\n",
        "A transistor is a semiconductor device used to amplify or switch electrical signals and power. The transistor is one of the basic building blocks of modern electronics.[1] It is composed of semiconductor material, usually with at least three terminals for connection to an electronic circuit. A voltage or current applied to one pair of the transistor's terminals controls the current through another pair of terminals. Because the controlled (output) power can be higher than the controlling (input) power, a transistor can amplify a signal. Some transistors are packaged individually, but many more in miniature form are found embedded in integrated circuits.\n",
        "\n",
        "Physicist Julius Edgar Lilienfeld proposed the concept of a field-effect transistor in 1926, but it was not possible to actually construct a working device at that time.[2] The first working device to be built was a point-contact transistor invented in 1947 by physicists John Bardeen and Walter Brattain while working under William Shockley at Bell Labs. The three shared the 1956 Nobel Prize in Physics for their achievement.[3] The most widely used type of transistor is the metal–oxide–semiconductor field-effect transistor (MOSFET), which was invented by Mohamed Atalla and Dawon Kahng at Bell Labs in 1959.[4][5][6] Transistors revolutionized the field of electronics, and paved the way for smaller and cheaper radios, calculators, and computers, among other things.\n",
        "\n",
        "Most transistors are made from very pure silicon, and some from germanium, but certain other semiconductor materials are sometimes used. A transistor may have only one kind of charge carrier, in a field-effect transistor, or may have two kinds of charge carriers in bipolar junction transistor devices. Compared with the vacuum tube, transistors are generally smaller and require less power to operate. Certain vacuum tubes have advantages over transistors at very high operating frequencies or high operating voltages. Many types of transistors are made to standardized specifications by multiple manufacturers. \"\"\")\n",
        "for i in blocks:\n",
        "  print(len(i))"
      ],
      "metadata": {
        "colab": {
          "base_uri": "https://localhost:8080/"
        },
        "id": "7USoKN8MiT8b",
        "outputId": "c07d3f55-469b-400c-cab4-cdd5a2cf71ee"
      },
      "execution_count": 42,
      "outputs": [
        {
          "output_type": "stream",
          "name": "stdout",
          "text": [
            "280\n",
            "280\n",
            "280\n",
            "280\n",
            "280\n",
            "280\n",
            "280\n"
          ]
        }
      ]
    },
    {
      "cell_type": "code",
      "source": [
        "\n",
        "def insert_text_into_table(text,tag):\n",
        "    blocks = split_text_into_lines(text)\n",
        "    for block in blocks:\n",
        "      try:\n",
        "        insert_record(\"base_blocks\",\"INSERT INTO table_blocks VALUES (NULL,'\"+tag+\"','\"+block+\"')\")\n",
        "      except:\n",
        "        print(\"Error inserting record\")\n",
        "insert_text_into_table(\"\"\"1999 \tFred Brooks \tFred Brooks (cropped).jpg \tFor landmark contributions to computer architecture, operating systems, and software engineering. \tIBM,\n",
        "University of North Carolina at Chapel Hill\n",
        "2000 \tAndrew Yao \tAndrew Yao MFO (cropped).jpg \tIn recognition of his fundamental contributions to the theory of computation, including the complexity-based theory of pseudorandom number generation, cryptography, and communication complexity. \tStanford University,\n",
        "University of California, Berkeley,\n",
        "Princeton University\n",
        "2001 \tOle-Johan Dahl \t\tFor ideas fundamental to the emergence of object-oriented programming, through their design of the programming languages Simula I and Simula 67. \tNorwegian Computing Center\n",
        "Kristen Nygaard \tKristen-Nygaard-SBLP-1997-head.png\n",
        "2002 \tRon Rivest \tRonald L Rivest photo.jpg \tFor their ingenious contribution for making public-key cryptography useful in practice. \tMassachusetts Institute of Technology\n",
        "Adi Shamir \tAdi Shamir at TU Darmstadt (2013).jpg\n",
        "Leonard Adleman \tLen-mankin-pic.jpg \tUniversity of Southern California\n",
        "2003 \tAlan Kay \tAlan Kay (3097597186) (cropped).jpg \tFor pioneering many of the ideas at the root of contemporary object-oriented programming languages, leading the team that developed Smalltalk, and for fundamental contributions to personal computing. \tUniversity of Utah,\n",
        "PARC,\n",
        "Stanford University,\n",
        "Atari,\n",
        "Apple ATG,\n",
        "Walt Disney Imagineering,\n",
        "Viewpoints Research Institute,\n",
        "HP Labs\n",
        "2004 \tVint Cerf \tDr Vint Cerf ForMemRS (cropped).jpg \tFor pioneering work on internetworking, including the design and implementation of the Internet's basic communications protocols, TCP/IP, and for inspired leadership in networking. \tUniversity of California, Los Angeles,\n",
        "Stanford University, DARPA,\n",
        "MCI (now under Verizon),\n",
        "CNRI, Google\n",
        "Bob Kahn \tBob Kahn.jpg \tMIT,\n",
        "Bolt Beranek and Newman,\n",
        "DARPA,\n",
        "CNRI\n",
        "2005 \tPeter Naur \tPeternaur.JPG \tFor fundamental contributions to programming language design and the definition of ALGOL 60, to compiler design, and to the art and practice of computer programming. \tRegnecentralen (now under Fujitsu),\n",
        "University of Copenhagen\n",
        "2006 \tFrances Allen \tAllen mg 2528-3750K-b.jpg \tFor pioneering contributions to the theory and practice of optimizing compiler techniques that laid the foundation for modern optimizing compilers and automatic parallel execution. \tIBM\n",
        "2007 \tEdmund M. Clarke \tEdmund Clarke FLoC 2006 (cropped).jpg \tFor their roles in developing model checking into a highly effective verification technology, widely adopted in the hardware and software industries.[38] \tHarvard University,\n",
        "Carnegie Mellon University\n",
        "E. Allen Emerson \tE-allen-emerson (cropped).jpg \tHarvard University\n",
        "Joseph Sifakis \tJoseph Sifakis img 0966.jpg \tFrench National Centre for Scientific Research\n",
        "2008 \tBarbara Liskov \tBarbara Liskov MIT computer scientist 2010.jpg \tFor contributions to practical and theoretical foundations of programming language and system design, especially related to data abstraction, fault tolerance, and distributed computing. \tMassachusetts Institute of Technology\n",
        "2009 \tCharles P. Thacker \tChuckthacker (cropped).jpg \tFor his pioneering design and realization of the Xerox Alto, the first modern personal computer, and in addition for his contributions to the Ethernet and the Tablet PC. \tPARC,\n",
        "DEC,\n",
        "Microsoft Research\n",
        "2010 \tLeslie Valiant \tLeslie Valiant (cropped).jpg \tFor transformative contributions to the theory of computation, including the theory of probably approximately correct (PAC) learning, the complexity of enumeration and of algebraic computation, and the theory of parallel and distributed computing. \tHarvard University\n",
        "2011 \tJudea Pearl[39] \tJudea Pearl at NIPS 2013 (11781981594) (cropped).jpg \tFor fundamental contributions to artificial intelligence through the development of a calculus for probabilistic and causal reasoning.[40] \tUniversity of California, Los Angeles\n",
        "New Jersey Institute of Technology\n",
        "2012 \tSilvio Micali \tSilvio Micali (cropped).jpg \tFor transformative work that laid the complexity-theoretic foundations for the science of cryptography and in the process pioneered new methods for efficient verification of mathematical proofs in complexity theory.[41] \tMassachusetts Institute of Technology\n",
        "Shafi Goldwasser \tShafi Goldwasser.JPG \tMassachusetts Institute of Technology,\n",
        "Weizmann Institute of Science\n",
        "2013 \tLeslie Lamport \tLeslie Lamport.jpg \tFor fundamental contributions to the theory and practice of distributed and concurrent systems, notably the invention of concepts such as causality and logical clocks, safety and liveness, replicated state machines, and sequential consistency.[42][43] \tMassachusetts Computer Associates (now under Essig PLM),\n",
        "SRI International,\n",
        "\"\"\",\"turing_award\")"
      ],
      "metadata": {
        "id": "9dbMXTeh1GlK",
        "outputId": "9d238930-ec9d-4c09-cf75-bbd0bfb31e93",
        "colab": {
          "base_uri": "https://localhost:8080/"
        }
      },
      "execution_count": 53,
      "outputs": [
        {
          "output_type": "stream",
          "name": "stdout",
          "text": [
            "Error inserting record\n"
          ]
        }
      ]
    }
  ]
}