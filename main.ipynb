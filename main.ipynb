{
  "nbformat": 4,
  "nbformat_minor": 0,
  "metadata": {
    "colab": {
      "provenance": [],
      "authorship_tag": "ABX9TyMdvCKWdakE0uDJjrRxceUh",
      "include_colab_link": true
    },
    "kernelspec": {
      "name": "python3",
      "display_name": "Python 3"
    },
    "language_info": {
      "name": "python"
    }
  },
  "cells": [
    {
      "cell_type": "markdown",
      "metadata": {
        "id": "view-in-github",
        "colab_type": "text"
      },
      "source": [
        "<a href=\"https://colab.research.google.com/github/GenaroHacker/pdf_generator/blob/main/main.ipynb\" target=\"_parent\"><img src=\"https://colab.research.google.com/assets/colab-badge.svg\" alt=\"Open In Colab\"/></a>"
      ]
    },
    {
      "cell_type": "code",
      "execution_count": 1,
      "metadata": {
        "id": "IsUAuIOKV_NX",
        "outputId": "58f991e8-8897-4444-f1e5-f34dd0812f36",
        "colab": {
          "base_uri": "https://localhost:8080/",
          "height": 1000
        }
      },
      "outputs": [
        {
          "output_type": "stream",
          "name": "stdout",
          "text": [
            "Cloning into 'pdf_generator'...\n",
            "remote: Enumerating objects: 189, done.\u001b[K\n",
            "remote: Counting objects: 100% (33/33), done.\u001b[K\n",
            "remote: Compressing objects: 100% (33/33), done.\u001b[K\n",
            "remote: Total 189 (delta 18), reused 0 (delta 0), pack-reused 156\u001b[K\n",
            "Receiving objects: 100% (189/189), 221.96 KiB | 5.84 MiB/s, done.\n",
            "Resolving deltas: 100% (111/111), done.\n",
            "/content/pdf_generator\n",
            "insert_text_into_table.py  main.ipynb       sql_core.py      Ubuntu-Regular.ttf\n",
            "list_functions.py          pages_to_pdf.py  str_to_block.py\n",
            "\n",
            "for function in list_module_functions('/content/pdf_generator/sql_core.py'):\n",
            "    print(function)\n",
            "    \n",
            "def create_table( database_name , table_name , table_structure ):\n",
            "def insert_record(database_name, record):\n",
            "def insert_several_records(database_name, multiple_records):\n",
            "def read_records(database_name, table_name):\n",
            "def read_last_record(database_name, table_name):\n",
            "def update_record(database_name, record):\n",
            "def remove_record(database_name, record):\n",
            "def run_command(database_name, command):\n",
            "Looking in indexes: https://pypi.org/simple, https://us-python.pkg.dev/colab-wheels/public/simple/\n",
            "Collecting reportlab\n",
            "  Downloading reportlab-3.6.12-cp38-cp38-manylinux_2_17_x86_64.manylinux2014_x86_64.whl (2.8 MB)\n",
            "\u001b[2K     \u001b[90m━━━━━━━━━━━━━━━━━━━━━━━━━━━━━━━━━━━━━━━━\u001b[0m \u001b[32m2.8/2.8 MB\u001b[0m \u001b[31m20.6 MB/s\u001b[0m eta \u001b[36m0:00:00\u001b[0m\n",
            "\u001b[?25hCollecting pillow>=9.0.0\n",
            "  Downloading Pillow-9.4.0-cp38-cp38-manylinux_2_28_x86_64.whl (3.4 MB)\n",
            "\u001b[2K     \u001b[90m━━━━━━━━━━━━━━━━━━━━━━━━━━━━━━━━━━━━━━━━\u001b[0m \u001b[32m3.4/3.4 MB\u001b[0m \u001b[31m16.6 MB/s\u001b[0m eta \u001b[36m0:00:00\u001b[0m\n",
            "\u001b[?25hInstalling collected packages: pillow, reportlab\n",
            "  Attempting uninstall: pillow\n",
            "    Found existing installation: Pillow 8.4.0\n",
            "    Uninstalling Pillow-8.4.0:\n",
            "      Successfully uninstalled Pillow-8.4.0\n",
            "Successfully installed pillow-9.4.0 reportlab-3.6.12\n"
          ]
        },
        {
          "output_type": "display_data",
          "data": {
            "application/vnd.colab-display-data+json": {
              "pip_warning": {
                "packages": [
                  "PIL"
                ]
              }
            }
          },
          "metadata": {}
        },
        {
          "output_type": "stream",
          "name": "stdout",
          "text": [
            "{'pages_to_pdf.py': ['pages_to_pdf', 'list_of_tuples_to_pages'], 'insert_text_into_table.py': ['split_text_into_lines', 'insert_text_into_table'], 'list_functions.py': ['split_string_into_lines', 'detect_if_is_a_python_function', 'read_file', 'list_module_functions'], 'str_to_block.py': ['get_string_width', 'split_string'], 'sql_core.py': ['create_table', 'insert_record', 'insert_several_records', 'read_records', 'read_last_record', 'update_record', 'remove_record', 'run_command']}\n",
            "----pages_to_pdf.py-----\n",
            "----insert_text_into_table.py-----\n",
            "----list_functions.py-----\n",
            "\n",
            "for function in list_module_functions('/content/pdf_generator/sql_core.py'):\n",
            "    print(function)\n",
            "    \n",
            "def create_table( database_name , table_name , table_structure ):\n",
            "def insert_record(database_name, record):\n",
            "def insert_several_records(database_name, multiple_records):\n",
            "def read_records(database_name, table_name):\n",
            "def read_last_record(database_name, table_name):\n",
            "def update_record(database_name, record):\n",
            "def remove_record(database_name, record):\n",
            "def run_command(database_name, command):\n",
            "----str_to_block.py-----\n",
            "['Hello World, this is a test to see if the function works how it should. ', 'I hope it does, otherwise I will have to fix it. ']\n",
            "----sql_core.py-----\n",
            "{'insert_text_into_table.py': ['split_text_into_lines',\n",
            "                               'insert_text_into_table'],\n",
            " 'list_functions.py': ['split_string_into_lines',\n",
            "                       'detect_if_is_a_python_function',\n",
            "                       'read_file',\n",
            "                       'list_module_functions'],\n",
            " 'pages_to_pdf.py': ['pages_to_pdf', 'list_of_tuples_to_pages'],\n",
            " 'sql_core.py': ['create_table',\n",
            "                 'insert_record',\n",
            "                 'insert_several_records',\n",
            "                 'read_records',\n",
            "                 'read_last_record',\n",
            "                 'update_record',\n",
            "                 'remove_record',\n",
            "                 'run_command'],\n",
            " 'str_to_block.py': ['get_string_width', 'split_string']}\n",
            "from pages_to_pdf import pages_to_pdf\n",
            "from pages_to_pdf import list_of_tuples_to_pages\n",
            "from insert_text_into_table import split_text_into_lines\n",
            "from insert_text_into_table import insert_text_into_table\n",
            "from list_functions import split_string_into_lines\n",
            "from list_functions import detect_if_is_a_python_function\n",
            "from list_functions import read_file\n",
            "from list_functions import list_module_functions\n",
            "from str_to_block import get_string_width\n",
            "from str_to_block import split_string\n",
            "from sql_core import create_table\n",
            "from sql_core import insert_record\n",
            "from sql_core import insert_several_records\n",
            "from sql_core import read_records\n",
            "from sql_core import read_last_record\n",
            "from sql_core import update_record\n",
            "from sql_core import remove_record\n",
            "from sql_core import run_command\n"
          ]
        }
      ],
      "source": [
        "#@title commited\n",
        "\n",
        "!git clone https://github.com/GenaroHacker/pdf_generator.git\n",
        "%cd /content/pdf_generator\n",
        "if True:\n",
        "  %ls\n",
        "%run list_functions.py\n",
        "\n",
        "\n",
        "from PIL import ImageFont\n",
        "\n",
        "\n",
        "!pip install reportlab\n",
        "\n",
        "\n",
        "#The funtion takes a path to a file in colaboratory and returns a list of its files ending with .py in the following format:\n",
        "#Input '/cotent/pdf_generator/sql_core.py'\n",
        "#Output ['sql_core.py']\n",
        "import os\n",
        "def list_files_in_colab_folder(path):\n",
        "    files = []\n",
        "    for file in os.listdir(path):\n",
        "        if file.endswith('.py'):\n",
        "            files.append(file)\n",
        "    return files\n",
        "\n",
        "my_modules = list_files_in_colab_folder('/content/pdf_generator')\n",
        "\n",
        "\n",
        "\n",
        "#Input \"def get_string_width(font_path, string):\"\n",
        "#Output \"get_string_width\"\n",
        "def get_function_name(string):\n",
        "    function_name = string.split('(')[0]\n",
        "    function_name = function_name.split(' ')[1]\n",
        "    return function_name\n",
        "\n",
        "function_names = []\n",
        "for function in list_module_functions('/content/pdf_generator/sql_core.py'):\n",
        "    function_names.append(get_function_name(function))\n",
        "\n",
        "dict_module_functions = {}\n",
        "for path in list_files_in_colab_folder('/content/pdf_generator'):\n",
        "  function_names = []\n",
        "  for function in list_module_functions('/content/pdf_generator/' + path):\n",
        "    function_names.append(get_function_name(function))\n",
        "  dict_module_functions[path] = function_names\n",
        "print(dict_module_functions)\n",
        "     \n",
        "\n",
        "for module in dict_module_functions:\n",
        "  print(\"----\" + module + \"-----\")\n",
        "  %run $module\n",
        "  %load $module\n",
        "\n",
        "from pprint import pprint\n",
        "pprint(dict_module_functions)\n",
        "\n",
        "\n",
        "def print_function_imports(modules_functions):\n",
        "    for module, functions in modules_functions.items():\n",
        "        for function in functions:\n",
        "            module_name = module[:-3]\n",
        "            print(f\"from {module_name} import {function}\")\n",
        "\n",
        "print_function_imports(dict_module_functions)"
      ]
    },
    {
      "cell_type": "code",
      "source": [
        "#@title area de ensayos\n",
        "from pages_to_pdf import pages_to_pdf\n",
        "from pages_to_pdf import list_of_tuples_to_pages\n",
        "from insert_text_into_table import split_text_into_lines\n",
        "from insert_text_into_table import insert_text_into_table\n",
        "from list_functions import split_string_into_lines\n",
        "from list_functions import detect_if_is_a_python_function\n",
        "from list_functions import read_file\n",
        "from list_functions import list_module_functions\n",
        "from str_to_block import get_string_width\n",
        "from str_to_block import split_string\n",
        "from sql_core import create_table\n",
        "from sql_core import insert_record\n",
        "from sql_core import insert_several_records\n",
        "from sql_core import read_records\n",
        "from sql_core import read_last_record\n",
        "from sql_core import update_record\n",
        "from sql_core import remove_record\n",
        "from sql_core import run_command"
      ],
      "metadata": {
        "id": "xRAWwAPm0NrE",
        "colab": {
          "base_uri": "https://localhost:8080/"
        },
        "outputId": "e8c8a0fe-85cb-4d6c-eba7-73455b60ab5c"
      },
      "execution_count": 2,
      "outputs": [
        {
          "output_type": "stream",
          "name": "stdout",
          "text": [
            "\n",
            "for function in list_module_functions('/content/pdf_generator/sql_core.py'):\n",
            "    print(function)\n",
            "    \n",
            "def create_table( database_name , table_name , table_structure ):\n",
            "def insert_record(database_name, record):\n",
            "def insert_several_records(database_name, multiple_records):\n",
            "def read_records(database_name, table_name):\n",
            "def read_last_record(database_name, table_name):\n",
            "def update_record(database_name, record):\n",
            "def remove_record(database_name, record):\n",
            "def run_command(database_name, command):\n",
            "['Hello World, this is a test to see if the function works how it should. ', 'I hope it does, otherwise I will have to fix it. ']\n"
          ]
        }
      ]
    },
    {
      "cell_type": "code",
      "source": [
        "\n",
        "get_string_width(\"/content/pdf_generator/Ubuntu-Regular.ttf\",\"hola\")\n",
        "block = split_string(\"Effectiveness is the art of balancing efficiency with purpose. Don't just rush to tick off your to-do list, pause to evaluate if it's moving you closer to your goals. Stay organized, delegate when possible, and don't shy away from seeking help. Let's crush those objectives!\",600)\n",
        "pprint(block)\n",
        "page = [block, block]\n",
        "book = [page, page]\n",
        "pages_to_pdf(book,\"textbook.pdf\")"
      ],
      "metadata": {
        "colab": {
          "base_uri": "https://localhost:8080/"
        },
        "id": "2MPlCLty026t",
        "outputId": "969c5438-0656-4a65-d466-4a6eb09aaae3"
      },
      "execution_count": 3,
      "outputs": [
        {
          "output_type": "stream",
          "name": "stdout",
          "text": [
            "[\"Effectiveness is the art of balancing efficiency with purpose. Don't \",\n",
            " \"just rush to tick off your to-do list, pause to evaluate if it's moving \",\n",
            " 'you closer to your goals. Stay organized, delegate when possible, ',\n",
            " \"and don't shy away from seeking help. Let's crush those \",\n",
            " 'objectives! ']\n"
          ]
        }
      ]
    },
    {
      "cell_type": "code",
      "source": [
        "#Create one Table\n",
        "columns = \"\"\"\n",
        "        ID INTEGER PRIMARY KEY AUTOINCREMENT,\n",
        "        TAG VARCHAR(280),\n",
        "        BLOCK VARCHAR(280)\"\"\"\n",
        "create_table(\"base_blocks\",\"table_blocks\",columns)\n",
        "\n",
        "#Insert one record\n",
        "insert_record(\"base_blocks\",\"INSERT INTO table_blocks VALUES (NULL,'this is some example textthis is sthisthis is some example text  is some example text this is some example text ome example text this is some example text  this is some this is some example text this is some example text example text this is some example text this is some example text ','SPORT')\")\n",
        "#Record inserted successfully!\n",
        "\n",
        "\n",
        "#Read all records\n",
        "list_of_tuples = read_records(\"base_blocks\",\"table_blocks\")\n",
        "pprint(list_of_tuples)\n",
        "#Read last record\n",
        "last_record = read_last_record(\"base_blocks\",\"table_blocks\")\n",
        "\n",
        "#Update record\n",
        "update_record(\"base_blocks\",\"UPDATE table_blocks SET BLOCK='BLOCK NAME UPDATED' WHERE ID=2\")\n",
        "#The record with ID=3 has been updated successfully!\n",
        "\n",
        "#Remove record\n",
        "#remove_record(\"base_blocks\",\"DELETE FROM table_blocks WHERE ID=1\")\n",
        "#The record with ID=4 has been removed successfully!"
      ],
      "metadata": {
        "colab": {
          "base_uri": "https://localhost:8080/"
        },
        "id": "5onuD0fDpaFC",
        "outputId": "0e9835d1-b9da-49a3-c9b7-5e8e20ea7c6c"
      },
      "execution_count": 4,
      "outputs": [
        {
          "output_type": "stream",
          "name": "stdout",
          "text": [
            "[(1,\n",
            "  'this is some example textthis is sthisthis is some example text  is some '\n",
            "  'example text this is some example text ome example text this is some '\n",
            "  'example text  this is some this is some example text this is some example '\n",
            "  'text example text this is some example text this is some example text ',\n",
            "  'SPORT')]\n"
          ]
        }
      ]
    },
    {
      "cell_type": "code",
      "source": [
        "example_text = \"this is some example textthis is sthisthis is some example text  is some example text this is some example text ome example text this is some example text  this is some this is some example text this is some example text example text this is some example text this is some example text \"\n",
        "tweetlenght = len(example_text)\n",
        "print(len(example_text))\n",
        "insert_text_into_table(\"this is some example text\",\n",
        "                       \"tag\",\"base_blocks\",\"table_blocks\")"
      ],
      "metadata": {
        "id": "Wxn6FMm9ILCr",
        "colab": {
          "base_uri": "https://localhost:8080/"
        },
        "outputId": "d2ff669e-30bd-4a69-bec6-813c2f57d6d1"
      },
      "execution_count": 5,
      "outputs": [
        {
          "output_type": "stream",
          "name": "stdout",
          "text": [
            "286\n"
          ]
        }
      ]
    },
    {
      "cell_type": "code",
      "source": [
        "def list_of_tuples_to_pages(list_of_tuples, tags, amount_of_pages=1):\n",
        "    from random import choice\n",
        "    pages = []\n",
        "    for i in range(amount_of_pages):\n",
        "        page = []\n",
        "        for j in range(6):\n",
        "            block = []\n",
        "            #choice\n",
        "            random_tag = choice(tags)\n",
        "            #filter\n",
        "            filtered_list_of_tuples = []\n",
        "            for tuple in list_of_tuples:\n",
        "                if tuple[2] == random_tag:\n",
        "                    filtered_list_of_tuples.append(tuple)\n",
        "            print(filtered_list_of_tuples)\n",
        "            #choice\n",
        "            if len(filtered_list_of_tuples) > 0:\n",
        "                random_tuple = choice(filtered_list_of_tuples)\n",
        "                print(random_tuple)\n",
        "                #split\n",
        "                from str_to_block import split_string\n",
        "                block = split_string(random_tuple[1],600)\n",
        "            page.append(block)\n",
        "        pages.append(page)\n",
        "    return pages\n",
        "\n",
        "#Read all records\n",
        "list_of_tuples = read_records(\"base_blocks\",\"table_blocks\")\n",
        "pprint(list_of_tuples)\n",
        "\n",
        "tags = ['SPORT']\n",
        "\n",
        "pages = list_of_tuples_to_pages(list_of_tuples, tags,amount_of_pages=2)\n",
        "print(pages)\n",
        "pages_to_pdf(pages,\"six blocks.pdf\")"
      ],
      "metadata": {
        "id": "xmFjTeksMXUS",
        "outputId": "605ce0b8-8b4c-41a6-d1fe-b56b876e2c38",
        "colab": {
          "base_uri": "https://localhost:8080/"
        }
      },
      "execution_count": 10,
      "outputs": [
        {
          "output_type": "stream",
          "name": "stdout",
          "text": [
            "[(1,\n",
            "  'this is some example textthis is sthisthis is some example text  is some '\n",
            "  'example text this is some example text ome example text this is some '\n",
            "  'example text  this is some this is some example text this is some example '\n",
            "  'text example text this is some example text this is some example text ',\n",
            "  'SPORT')]\n",
            "[(1, 'this is some example textthis is sthisthis is some example text  is some example text this is some example text ome example text this is some example text  this is some this is some example text this is some example text example text this is some example text this is some example text ', 'SPORT')]\n",
            "(1, 'this is some example textthis is sthisthis is some example text  is some example text this is some example text ome example text this is some example text  this is some this is some example text this is some example text example text this is some example text this is some example text ', 'SPORT')\n",
            "[(1, 'this is some example textthis is sthisthis is some example text  is some example text this is some example text ome example text this is some example text  this is some this is some example text this is some example text example text this is some example text this is some example text ', 'SPORT')]\n",
            "(1, 'this is some example textthis is sthisthis is some example text  is some example text this is some example text ome example text this is some example text  this is some this is some example text this is some example text example text this is some example text this is some example text ', 'SPORT')\n",
            "[(1, 'this is some example textthis is sthisthis is some example text  is some example text this is some example text ome example text this is some example text  this is some this is some example text this is some example text example text this is some example text this is some example text ', 'SPORT')]\n",
            "(1, 'this is some example textthis is sthisthis is some example text  is some example text this is some example text ome example text this is some example text  this is some this is some example text this is some example text example text this is some example text this is some example text ', 'SPORT')\n",
            "[(1, 'this is some example textthis is sthisthis is some example text  is some example text this is some example text ome example text this is some example text  this is some this is some example text this is some example text example text this is some example text this is some example text ', 'SPORT')]\n",
            "(1, 'this is some example textthis is sthisthis is some example text  is some example text this is some example text ome example text this is some example text  this is some this is some example text this is some example text example text this is some example text this is some example text ', 'SPORT')\n",
            "[(1, 'this is some example textthis is sthisthis is some example text  is some example text this is some example text ome example text this is some example text  this is some this is some example text this is some example text example text this is some example text this is some example text ', 'SPORT')]\n",
            "(1, 'this is some example textthis is sthisthis is some example text  is some example text this is some example text ome example text this is some example text  this is some this is some example text this is some example text example text this is some example text this is some example text ', 'SPORT')\n",
            "[(1, 'this is some example textthis is sthisthis is some example text  is some example text this is some example text ome example text this is some example text  this is some this is some example text this is some example text example text this is some example text this is some example text ', 'SPORT')]\n",
            "(1, 'this is some example textthis is sthisthis is some example text  is some example text this is some example text ome example text this is some example text  this is some this is some example text this is some example text example text this is some example text this is some example text ', 'SPORT')\n",
            "[(1, 'this is some example textthis is sthisthis is some example text  is some example text this is some example text ome example text this is some example text  this is some this is some example text this is some example text example text this is some example text this is some example text ', 'SPORT')]\n",
            "(1, 'this is some example textthis is sthisthis is some example text  is some example text this is some example text ome example text this is some example text  this is some this is some example text this is some example text example text this is some example text this is some example text ', 'SPORT')\n",
            "[(1, 'this is some example textthis is sthisthis is some example text  is some example text this is some example text ome example text this is some example text  this is some this is some example text this is some example text example text this is some example text this is some example text ', 'SPORT')]\n",
            "(1, 'this is some example textthis is sthisthis is some example text  is some example text this is some example text ome example text this is some example text  this is some this is some example text this is some example text example text this is some example text this is some example text ', 'SPORT')\n",
            "[(1, 'this is some example textthis is sthisthis is some example text  is some example text this is some example text ome example text this is some example text  this is some this is some example text this is some example text example text this is some example text this is some example text ', 'SPORT')]\n",
            "(1, 'this is some example textthis is sthisthis is some example text  is some example text this is some example text ome example text this is some example text  this is some this is some example text this is some example text example text this is some example text this is some example text ', 'SPORT')\n",
            "[(1, 'this is some example textthis is sthisthis is some example text  is some example text this is some example text ome example text this is some example text  this is some this is some example text this is some example text example text this is some example text this is some example text ', 'SPORT')]\n",
            "(1, 'this is some example textthis is sthisthis is some example text  is some example text this is some example text ome example text this is some example text  this is some this is some example text this is some example text example text this is some example text this is some example text ', 'SPORT')\n",
            "[(1, 'this is some example textthis is sthisthis is some example text  is some example text this is some example text ome example text this is some example text  this is some this is some example text this is some example text example text this is some example text this is some example text ', 'SPORT')]\n",
            "(1, 'this is some example textthis is sthisthis is some example text  is some example text this is some example text ome example text this is some example text  this is some this is some example text this is some example text example text this is some example text this is some example text ', 'SPORT')\n",
            "[(1, 'this is some example textthis is sthisthis is some example text  is some example text this is some example text ome example text this is some example text  this is some this is some example text this is some example text example text this is some example text this is some example text ', 'SPORT')]\n",
            "(1, 'this is some example textthis is sthisthis is some example text  is some example text this is some example text ome example text this is some example text  this is some this is some example text this is some example text example text this is some example text this is some example text ', 'SPORT')\n",
            "[[['this is some example textthis is sthisthis is some example text is ', 'some example text this is some example text ome example text ', 'this is some example text this is some this is some example text ', 'this is some example text example text this is some example text ', 'this is some example text '], ['this is some example textthis is sthisthis is some example text is ', 'some example text this is some example text ome example text ', 'this is some example text this is some this is some example text ', 'this is some example text example text this is some example text ', 'this is some example text '], ['this is some example textthis is sthisthis is some example text is ', 'some example text this is some example text ome example text ', 'this is some example text this is some this is some example text ', 'this is some example text example text this is some example text ', 'this is some example text '], ['this is some example textthis is sthisthis is some example text is ', 'some example text this is some example text ome example text ', 'this is some example text this is some this is some example text ', 'this is some example text example text this is some example text ', 'this is some example text '], ['this is some example textthis is sthisthis is some example text is ', 'some example text this is some example text ome example text ', 'this is some example text this is some this is some example text ', 'this is some example text example text this is some example text ', 'this is some example text '], ['this is some example textthis is sthisthis is some example text is ', 'some example text this is some example text ome example text ', 'this is some example text this is some this is some example text ', 'this is some example text example text this is some example text ', 'this is some example text ']], [['this is some example textthis is sthisthis is some example text is ', 'some example text this is some example text ome example text ', 'this is some example text this is some this is some example text ', 'this is some example text example text this is some example text ', 'this is some example text '], ['this is some example textthis is sthisthis is some example text is ', 'some example text this is some example text ome example text ', 'this is some example text this is some this is some example text ', 'this is some example text example text this is some example text ', 'this is some example text '], ['this is some example textthis is sthisthis is some example text is ', 'some example text this is some example text ome example text ', 'this is some example text this is some this is some example text ', 'this is some example text example text this is some example text ', 'this is some example text '], ['this is some example textthis is sthisthis is some example text is ', 'some example text this is some example text ome example text ', 'this is some example text this is some this is some example text ', 'this is some example text example text this is some example text ', 'this is some example text '], ['this is some example textthis is sthisthis is some example text is ', 'some example text this is some example text ome example text ', 'this is some example text this is some this is some example text ', 'this is some example text example text this is some example text ', 'this is some example text '], ['this is some example textthis is sthisthis is some example text is ', 'some example text this is some example text ome example text ', 'this is some example text this is some this is some example text ', 'this is some example text example text this is some example text ', 'this is some example text ']]]\n"
          ]
        }
      ]
    }
  ]
}