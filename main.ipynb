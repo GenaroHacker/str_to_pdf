{
  "nbformat": 4,
  "nbformat_minor": 0,
  "metadata": {
    "colab": {
      "provenance": [],
      "authorship_tag": "ABX9TyM5qQmYeHiy/kZjyBgY0CPa",
      "include_colab_link": true
    },
    "kernelspec": {
      "name": "python3",
      "display_name": "Python 3"
    },
    "language_info": {
      "name": "python"
    }
  },
  "cells": [
    {
      "cell_type": "markdown",
      "metadata": {
        "id": "view-in-github",
        "colab_type": "text"
      },
      "source": [
        "<a href=\"https://colab.research.google.com/github/GenaroHacker/pdf_generator/blob/main/main.ipynb\" target=\"_parent\"><img src=\"https://colab.research.google.com/assets/colab-badge.svg\" alt=\"Open In Colab\"/></a>"
      ]
    },
    {
      "cell_type": "code",
      "execution_count": 1,
      "metadata": {
        "id": "IsUAuIOKV_NX",
        "outputId": "9dbb48e6-065b-4f24-e8c9-83525d795571",
        "colab": {
          "base_uri": "https://localhost:8080/",
          "height": 713
        }
      },
      "outputs": [
        {
          "output_type": "stream",
          "name": "stdout",
          "text": [
            "Cloning into 'pdf_generator'...\n",
            "remote: Enumerating objects: 67, done.\u001b[K\n",
            "remote: Counting objects: 100% (67/67), done.\u001b[K\n",
            "remote: Compressing objects: 100% (63/63), done.\u001b[K\n",
            "remote: Total 67 (delta 33), reused 14 (delta 2), pack-reused 0\u001b[K\n",
            "Unpacking objects: 100% (67/67), 183.20 KiB | 2.86 MiB/s, done.\n",
            "/content/pdf_generator\n",
            "grey_lines_text.pdf  main.ipynb       sql_core.py      Ubuntu-Regular.ttf\n",
            "list_functions.py    pages_to_pdf.py  str_to_block.py\n",
            "\n",
            "for function in list_module_functions('/content/pdf_generator/sql_core.py'):\n",
            "    print(function)\n",
            "    \n",
            "def connect_disconnect(func):\n",
            "def create_table( database_name , table_name , table_structure ):\n",
            "def insert_record(database_name, record):\n",
            "def insert_several_records(database_name, multiple_records):\n",
            "def read_records(database_name, table_name):\n",
            "def read_last_record(database_name, table_name):\n",
            "def update_record(database_name, record):\n",
            "def remove_record(database_name, record):\n",
            "def run_command(database_name, command):\n",
            "Looking in indexes: https://pypi.org/simple, https://us-python.pkg.dev/colab-wheels/public/simple/\n",
            "Collecting reportlab\n",
            "  Downloading reportlab-3.6.12-cp38-cp38-manylinux_2_17_x86_64.manylinux2014_x86_64.whl (2.8 MB)\n",
            "\u001b[2K     \u001b[90m━━━━━━━━━━━━━━━━━━━━━━━━━━━━━━━━━━━━━━━━\u001b[0m \u001b[32m2.8/2.8 MB\u001b[0m \u001b[31m34.4 MB/s\u001b[0m eta \u001b[36m0:00:00\u001b[0m\n",
            "\u001b[?25hCollecting pillow>=9.0.0\n",
            "  Downloading Pillow-9.4.0-cp38-cp38-manylinux_2_28_x86_64.whl (3.4 MB)\n",
            "\u001b[2K     \u001b[90m━━━━━━━━━━━━━━━━━━━━━━━━━━━━━━━━━━━━━━━━\u001b[0m \u001b[32m3.4/3.4 MB\u001b[0m \u001b[31m18.8 MB/s\u001b[0m eta \u001b[36m0:00:00\u001b[0m\n",
            "\u001b[?25hInstalling collected packages: pillow, reportlab\n",
            "  Attempting uninstall: pillow\n",
            "    Found existing installation: Pillow 8.4.0\n",
            "    Uninstalling Pillow-8.4.0:\n",
            "      Successfully uninstalled Pillow-8.4.0\n",
            "Successfully installed pillow-9.4.0 reportlab-3.6.12\n"
          ]
        },
        {
          "output_type": "display_data",
          "data": {
            "application/vnd.colab-display-data+json": {
              "pip_warning": {
                "packages": [
                  "PIL"
                ]
              }
            }
          },
          "metadata": {}
        }
      ],
      "source": [
        "\n",
        "!git clone https://github.com/GenaroHacker/pdf_generator.git\n",
        "%cd /content/pdf_generator\n",
        "if True:\n",
        "  %ls\n",
        "%run sql_core.py\n",
        "%run list_functions.py\n",
        "\n",
        "\n",
        "from PIL import ImageFont\n",
        "\n",
        "\n",
        "!pip install reportlab"
      ]
    },
    {
      "cell_type": "code",
      "source": [
        "#@title dictionary modules_functions\n",
        "\n",
        "\n",
        "\n",
        "#The funtion takes a path to a file in colaboratory and returns a list of its files ending with .py in the following format:\n",
        "#Input '/cotent/pdf_generator/sql_core.py'\n",
        "#Output ['sql_core.py']\n",
        "import os\n",
        "def list_files_in_colab_folder(path):\n",
        "    files = []\n",
        "    for file in os.listdir(path):\n",
        "        if file.endswith('.py'):\n",
        "            files.append(file)\n",
        "    return files\n",
        "\n",
        "my_modules = list_files_in_colab_folder('/content/pdf_generator')\n",
        "\n",
        "\n",
        "\n",
        "#Input \"def get_string_width(font_path, string):\"\n",
        "#Output \"get_string_width\"\n",
        "def get_function_name(string):\n",
        "    function_name = string.split('(')[0]\n",
        "    function_name = function_name.split(' ')[1]\n",
        "    return function_name\n",
        "\n",
        "function_names = []\n",
        "for function in list_module_functions('/content/pdf_generator/sql_core.py'):\n",
        "    function_names.append(get_function_name(function))\n",
        "\n",
        "dict_module_functions = {}\n",
        "for path in list_files_in_colab_folder('/content/pdf_generator'):\n",
        "  function_names = []\n",
        "  for function in list_module_functions('/content/pdf_generator/' + path):\n",
        "    function_names.append(get_function_name(function))\n",
        "  dict_module_functions[path] = function_names\n",
        "print(dict_module_functions)"
      ],
      "metadata": {
        "colab": {
          "base_uri": "https://localhost:8080/"
        },
        "id": "rB37ICM2FhRS",
        "outputId": "178e378b-8081-45a2-ad3c-bcf39606827e",
        "cellView": "form"
      },
      "execution_count": 2,
      "outputs": [
        {
          "output_type": "stream",
          "name": "stdout",
          "text": [
            "{'pages_to_pdf.py': ['pages_to_pdf'], 'sql_core.py': ['connect_disconnect', 'create_table', 'insert_record', 'insert_several_records', 'read_records', 'read_last_record', 'update_record', 'remove_record', 'run_command'], 'str_to_block.py': ['get_string_width', 'split_string'], 'list_functions.py': ['split_string_into_lines', 'detect_if_is_a_python_function', 'read_file', 'list_module_functions']}\n"
          ]
        }
      ]
    },
    {
      "cell_type": "code",
      "source": [
        "for module in dict_module_functions:\n",
        "  print(module)\n",
        "  %run $module\n",
        "  %load $module"
      ],
      "metadata": {
        "colab": {
          "base_uri": "https://localhost:8080/"
        },
        "id": "PktxywOBG4mY",
        "outputId": "34cd8587-710c-4252-f124-0f714c1c322e"
      },
      "execution_count": 4,
      "outputs": [
        {
          "output_type": "stream",
          "name": "stdout",
          "text": [
            "pages_to_pdf.py\n",
            "sql_core.py\n",
            "str_to_block.py\n",
            "['Hello World, this is a test to see if the function works how it should. ', 'I hope it does, otherwise I will have to fix it. ']\n",
            "list_functions.py\n",
            "\n",
            "for function in list_module_functions('/content/pdf_generator/sql_core.py'):\n",
            "    print(function)\n",
            "    \n",
            "def connect_disconnect(func):\n",
            "def create_table( database_name , table_name , table_structure ):\n",
            "def insert_record(database_name, record):\n",
            "def insert_several_records(database_name, multiple_records):\n",
            "def read_records(database_name, table_name):\n",
            "def read_last_record(database_name, table_name):\n",
            "def update_record(database_name, record):\n",
            "def remove_record(database_name, record):\n",
            "def run_command(database_name, command):\n"
          ]
        }
      ]
    }
  ]
}