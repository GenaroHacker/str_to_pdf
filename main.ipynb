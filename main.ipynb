{
  "nbformat": 4,
  "nbformat_minor": 0,
  "metadata": {
    "colab": {
      "provenance": [],
      "authorship_tag": "ABX9TyPxcOtvEUb6uuR5zjv2NNdc",
      "include_colab_link": true
    },
    "kernelspec": {
      "name": "python3",
      "display_name": "Python 3"
    },
    "language_info": {
      "name": "python"
    }
  },
  "cells": [
    {
      "cell_type": "markdown",
      "metadata": {
        "id": "view-in-github",
        "colab_type": "text"
      },
      "source": [
        "<a href=\"https://colab.research.google.com/github/GenaroHacker/pdf_generator/blob/main/main.ipynb\" target=\"_parent\"><img src=\"https://colab.research.google.com/assets/colab-badge.svg\" alt=\"Open In Colab\"/></a>"
      ]
    },
    {
      "cell_type": "code",
      "execution_count": 1,
      "metadata": {
        "id": "IsUAuIOKV_NX",
        "outputId": "9fd927f0-5012-47e5-b229-a4517646bd06",
        "colab": {
          "base_uri": "https://localhost:8080/",
          "height": 713
        }
      },
      "outputs": [
        {
          "output_type": "stream",
          "name": "stdout",
          "text": [
            "Cloning into 'pdf_generator'...\n",
            "remote: Enumerating objects: 58, done.\u001b[K\n",
            "remote: Counting objects: 100% (58/58), done.\u001b[K\n",
            "remote: Compressing objects: 100% (54/54), done.\u001b[K\n",
            "remote: Total 58 (delta 27), reused 14 (delta 2), pack-reused 0\u001b[K\n",
            "Unpacking objects: 100% (58/58), 180.27 KiB | 1.05 MiB/s, done.\n",
            "/content/pdf_generator\n",
            "grey_lines_text.pdf  main.ipynb       sql_core.py      Ubuntu-Regular.ttf\n",
            "list_functions.py    pages_to_pdf.py  str_to_block.py\n",
            "Looking in indexes: https://pypi.org/simple, https://us-python.pkg.dev/colab-wheels/public/simple/\n",
            "Collecting reportlab\n",
            "  Downloading reportlab-3.6.12-cp38-cp38-manylinux_2_17_x86_64.manylinux2014_x86_64.whl (2.8 MB)\n",
            "\u001b[2K     \u001b[90m━━━━━━━━━━━━━━━━━━━━━━━━━━━━━━━━━━━━━━━━\u001b[0m \u001b[32m2.8/2.8 MB\u001b[0m \u001b[31m23.2 MB/s\u001b[0m eta \u001b[36m0:00:00\u001b[0m\n",
            "\u001b[?25hCollecting pillow>=9.0.0\n",
            "  Downloading Pillow-9.4.0-cp38-cp38-manylinux_2_28_x86_64.whl (3.4 MB)\n",
            "\u001b[2K     \u001b[90m━━━━━━━━━━━━━━━━━━━━━━━━━━━━━━━━━━━━━━━━\u001b[0m \u001b[32m3.4/3.4 MB\u001b[0m \u001b[31m12.2 MB/s\u001b[0m eta \u001b[36m0:00:00\u001b[0m\n",
            "\u001b[?25hInstalling collected packages: pillow, reportlab\n",
            "  Attempting uninstall: pillow\n",
            "    Found existing installation: Pillow 8.4.0\n",
            "    Uninstalling Pillow-8.4.0:\n",
            "      Successfully uninstalled Pillow-8.4.0\n",
            "Successfully installed pillow-9.4.0 reportlab-3.6.12\n"
          ]
        },
        {
          "output_type": "display_data",
          "data": {
            "application/vnd.colab-display-data+json": {
              "pip_warning": {
                "packages": [
                  "PIL"
                ]
              }
            }
          },
          "metadata": {}
        },
        {
          "output_type": "stream",
          "name": "stdout",
          "text": [
            "\n",
            "for function in list_module_functions('/content/pdf_generator/sql_core.py'):\n",
            "    print(function)\n",
            "    \n",
            "def connect_disconnect(func):\n",
            "def create_table( database_name , table_name , table_structure ):\n",
            "def insert_record(database_name, record):\n",
            "def insert_several_records(database_name, multiple_records):\n",
            "def read_records(database_name, table_name):\n",
            "def read_last_record(database_name, table_name):\n",
            "def update_record(database_name, record):\n",
            "def remove_record(database_name, record):\n",
            "def run_command(database_name, command):\n"
          ]
        }
      ],
      "source": [
        "\n",
        "!git clone https://github.com/GenaroHacker/pdf_generator.git\n",
        "%cd /content/pdf_generator\n",
        "if True:\n",
        "  %ls\n",
        "%run sql_core.py\n",
        "!pip install reportlab\n",
        "%run list_functions.py"
      ]
    },
    {
      "cell_type": "code",
      "source": [
        "\n",
        "#The funtions recives a string and prints a title with the string in the middle\n",
        "#Input \"Hello World\"\n",
        "#Output \"\"\"\n",
        "# \n",
        "#      | Hello World |\n",
        "\n",
        "# \"\"\"\n",
        "def print_title(string):\n",
        "    print(\"\"\"\n",
        "    \n",
        "    | {} |\n",
        "    \n",
        "    \"\"\".format(string))\n",
        "\n",
        "#test 6\n",
        "print_title('Hello World')"
      ],
      "metadata": {
        "outputId": "56b7b371-6e61-44b1-f975-aa76feaf7dba",
        "colab": {
          "base_uri": "https://localhost:8080/"
        },
        "id": "bUmmnIeEDojF"
      },
      "execution_count": 2,
      "outputs": [
        {
          "output_type": "stream",
          "name": "stdout",
          "text": [
            "\n",
            "    \n",
            "    | Hello World |\n",
            "    \n",
            "    \n"
          ]
        }
      ]
    },
    {
      "cell_type": "code",
      "source": [
        "#The funtion takes a path to a file in colaboratory and returns a list of its files ending with .py in the following format:\n",
        "#Input '/cotent/pdf_generator/sql_core.py'\n",
        "#Output ['sql_core.py']\n",
        "import os\n",
        "def list_files_in_colab_folder(path):\n",
        "    files = []\n",
        "    for file in os.listdir(path):\n",
        "        if file.endswith('.py'):\n",
        "            files.append(file)\n",
        "    return files\n",
        "\n",
        "print_title('Functions')\n",
        "my_modules = list_files_in_colab_folder('/content/pdf_generator')\n",
        "\n",
        "\n",
        "for module in my_modules:\n",
        "  print_title(\"module \" + module)\n",
        "  for function in list_module_functions('/content/pdf_generator/' + module):\n",
        "    print(function)\n",
        "print_title('sql_core')\n",
        "\n",
        "#Input \"def get_string_width(font_path, string):\"\n",
        "#Output \"get_string_width\"\n",
        "def get_function_name(string):\n",
        "    function_name = string.split('(')[0]\n",
        "    function_name = function_name.split(' ')[1]\n",
        "    return function_name\n",
        "\n",
        "function_names = []\n",
        "for function in list_module_functions('/content/pdf_generator/sql_core.py'):\n",
        "    function_names.append(get_function_name(function))\n",
        "print(function_names)\n",
        "\n",
        "\n",
        "print_title('Hello World')\n",
        "\n",
        "for path in list_files_in_colab_folder('/content/pdf_generator'):\n",
        "  print(type(path))\n",
        "  print(path)\n",
        "  function_names = []\n",
        "  for function in list_module_functions('/content/pdf_generator/' + path):\n",
        "    function_names.append(get_function_name(function))\n",
        "  print(type(function_names))\n",
        "  print(function_names)"
      ],
      "metadata": {
        "colab": {
          "base_uri": "https://localhost:8080/"
        },
        "id": "rB37ICM2FhRS",
        "outputId": "05626509-6a4b-4293-cb81-ca25ad4ae4e8"
      },
      "execution_count": 15,
      "outputs": [
        {
          "output_type": "stream",
          "name": "stderr",
          "text": [
            "ERROR:root:File `'path.py'` not found.\n",
            "ERROR:root:File `'path.py'` not found.\n",
            "ERROR:root:File `'path.py'` not found.\n",
            "ERROR:root:File `'path.py'` not found.\n"
          ]
        },
        {
          "output_type": "stream",
          "name": "stdout",
          "text": [
            "\n",
            "    \n",
            "    | Functions |\n",
            "    \n",
            "    \n",
            "\n",
            "    \n",
            "    | module pages_to_pdf.py |\n",
            "    \n",
            "    \n",
            "def pages_to_pdf(pages):\n",
            "\n",
            "    \n",
            "    | module sql_core.py |\n",
            "    \n",
            "    \n",
            "def connect_disconnect(func):\n",
            "def create_table( database_name , table_name , table_structure ):\n",
            "def insert_record(database_name, record):\n",
            "def insert_several_records(database_name, multiple_records):\n",
            "def read_records(database_name, table_name):\n",
            "def read_last_record(database_name, table_name):\n",
            "def update_record(database_name, record):\n",
            "def remove_record(database_name, record):\n",
            "def run_command(database_name, command):\n",
            "\n",
            "    \n",
            "    | module str_to_block.py |\n",
            "    \n",
            "    \n",
            "def get_string_width(font_path, string):\n",
            "def split_string(string, max_width):\n",
            "\n",
            "    \n",
            "    | module list_functions.py |\n",
            "    \n",
            "    \n",
            "def split_string_into_lines(string):\n",
            "def detect_if_is_a_python_function(string):\n",
            "def read_file(file_name):\n",
            "def list_module_functions(file_name):\n",
            "\n",
            "    \n",
            "    | sql_core |\n",
            "    \n",
            "    \n",
            "['connect_disconnect', 'create_table', 'insert_record', 'insert_several_records', 'read_records', 'read_last_record', 'update_record', 'remove_record', 'run_command']\n",
            "\n",
            "    \n",
            "    | Hello World |\n",
            "    \n",
            "    \n",
            "<class 'str'>\n",
            "pages_to_pdf.py\n",
            "<class 'list'>\n",
            "['pages_to_pdf']\n",
            "<class 'str'>\n",
            "sql_core.py\n",
            "<class 'list'>\n",
            "['connect_disconnect', 'create_table', 'insert_record', 'insert_several_records', 'read_records', 'read_last_record', 'update_record', 'remove_record', 'run_command']\n",
            "<class 'str'>\n",
            "str_to_block.py\n",
            "<class 'list'>\n",
            "['get_string_width', 'split_string']\n",
            "<class 'str'>\n",
            "list_functions.py\n",
            "<class 'list'>\n",
            "['split_string_into_lines', 'detect_if_is_a_python_function', 'read_file', 'list_module_functions']\n"
          ]
        }
      ]
    },
    {
      "cell_type": "code",
      "source": [],
      "metadata": {
        "id": "KDcIB_Z6d9Er"
      },
      "execution_count": null,
      "outputs": []
    }
  ]
}