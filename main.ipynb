{
  "nbformat": 4,
  "nbformat_minor": 0,
  "metadata": {
    "colab": {
      "provenance": [],
      "authorship_tag": "ABX9TyOv8u+V4+UacDG1bGW7Fnnd",
      "include_colab_link": true
    },
    "kernelspec": {
      "name": "python3",
      "display_name": "Python 3"
    },
    "language_info": {
      "name": "python"
    }
  },
  "cells": [
    {
      "cell_type": "markdown",
      "metadata": {
        "id": "view-in-github",
        "colab_type": "text"
      },
      "source": [
        "<a href=\"https://colab.research.google.com/github/GenaroHacker/pdf_generator/blob/main/main.ipynb\" target=\"_parent\"><img src=\"https://colab.research.google.com/assets/colab-badge.svg\" alt=\"Open In Colab\"/></a>"
      ]
    },
    {
      "cell_type": "code",
      "execution_count": 1,
      "metadata": {
        "id": "IsUAuIOKV_NX",
        "outputId": "50a5558c-1d1d-4e86-d4b2-0ab44bb606b8",
        "colab": {
          "base_uri": "https://localhost:8080/",
          "height": 1000
        }
      },
      "outputs": [
        {
          "output_type": "stream",
          "name": "stdout",
          "text": [
            "Cloning into 'pdf_generator'...\n",
            "remote: Enumerating objects: 231, done.\u001b[K\n",
            "remote: Counting objects: 100% (75/75), done.\u001b[K\n",
            "remote: Compressing objects: 100% (75/75), done.\u001b[K\n",
            "remote: Total 231 (delta 45), reused 0 (delta 0), pack-reused 156\u001b[K\n",
            "Receiving objects: 100% (231/231), 239.18 KiB | 6.64 MiB/s, done.\n",
            "Resolving deltas: 100% (138/138), done.\n",
            "/content/pdf_generator\n",
            "insert_text_into_table.py  main.ipynb       sql_core.py      Ubuntu-Regular.ttf\n",
            "list_functions.py          pages_to_pdf.py  str_to_block.py\n",
            "\n",
            "for function in list_module_functions('/content/pdf_generator/sql_core.py'):\n",
            "    print(function)\n",
            "    \n",
            "def create_table( database_name , table_name , table_structure ):\n",
            "def insert_record(database_name, record):\n",
            "def insert_several_records(database_name, multiple_records):\n",
            "def read_records(database_name, table_name):\n",
            "def read_last_record(database_name, table_name):\n",
            "def update_record(database_name, record):\n",
            "def remove_record(database_name, record):\n",
            "def run_command(database_name, command):\n",
            "Looking in indexes: https://pypi.org/simple, https://us-python.pkg.dev/colab-wheels/public/simple/\n",
            "Collecting reportlab\n",
            "  Downloading reportlab-3.6.12-cp38-cp38-manylinux_2_17_x86_64.manylinux2014_x86_64.whl (2.8 MB)\n",
            "\u001b[2K     \u001b[90m━━━━━━━━━━━━━━━━━━━━━━━━━━━━━━━━━━━━━━━━\u001b[0m \u001b[32m2.8/2.8 MB\u001b[0m \u001b[31m15.6 MB/s\u001b[0m eta \u001b[36m0:00:00\u001b[0m\n",
            "\u001b[?25hCollecting pillow>=9.0.0\n",
            "  Downloading Pillow-9.4.0-cp38-cp38-manylinux_2_28_x86_64.whl (3.4 MB)\n",
            "\u001b[2K     \u001b[90m━━━━━━━━━━━━━━━━━━━━━━━━━━━━━━━━━━━━━━━━\u001b[0m \u001b[32m3.4/3.4 MB\u001b[0m \u001b[31m18.4 MB/s\u001b[0m eta \u001b[36m0:00:00\u001b[0m\n",
            "\u001b[?25hInstalling collected packages: pillow, reportlab\n",
            "  Attempting uninstall: pillow\n",
            "    Found existing installation: Pillow 8.4.0\n",
            "    Uninstalling Pillow-8.4.0:\n",
            "      Successfully uninstalled Pillow-8.4.0\n",
            "Successfully installed pillow-9.4.0 reportlab-3.6.12\n"
          ]
        },
        {
          "output_type": "display_data",
          "data": {
            "application/vnd.colab-display-data+json": {
              "pip_warning": {
                "packages": [
                  "PIL"
                ]
              }
            }
          },
          "metadata": {}
        },
        {
          "output_type": "stream",
          "name": "stdout",
          "text": [
            "{'pages_to_pdf.py': ['pages_to_pdf', 'empty_text', 'list_of_tuples_to_pages'], 'insert_text_into_table.py': ['split_text_into_lines', 'insert_text_into_table'], 'list_functions.py': ['split_string_into_lines', 'detect_if_is_a_python_function', 'read_file', 'list_module_functions'], 'str_to_block.py': ['get_string_width', 'split_string'], 'sql_core.py': ['create_table', 'insert_record', 'insert_several_records', 'read_records', 'read_last_record', 'update_record', 'remove_record', 'run_command']}\n",
            "----pages_to_pdf.py-----\n",
            "----insert_text_into_table.py-----\n",
            "----list_functions.py-----\n",
            "\n",
            "for function in list_module_functions('/content/pdf_generator/sql_core.py'):\n",
            "    print(function)\n",
            "    \n",
            "def create_table( database_name , table_name , table_structure ):\n",
            "def insert_record(database_name, record):\n",
            "def insert_several_records(database_name, multiple_records):\n",
            "def read_records(database_name, table_name):\n",
            "def read_last_record(database_name, table_name):\n",
            "def update_record(database_name, record):\n",
            "def remove_record(database_name, record):\n",
            "def run_command(database_name, command):\n",
            "----str_to_block.py-----\n",
            "['Hello World, this is a test to see if the function works how it should. ', 'I hope it does, otherwise I will have to fix it. ']\n",
            "----sql_core.py-----\n",
            "{'insert_text_into_table.py': ['split_text_into_lines',\n",
            "                               'insert_text_into_table'],\n",
            " 'list_functions.py': ['split_string_into_lines',\n",
            "                       'detect_if_is_a_python_function',\n",
            "                       'read_file',\n",
            "                       'list_module_functions'],\n",
            " 'pages_to_pdf.py': ['pages_to_pdf', 'empty_text', 'list_of_tuples_to_pages'],\n",
            " 'sql_core.py': ['create_table',\n",
            "                 'insert_record',\n",
            "                 'insert_several_records',\n",
            "                 'read_records',\n",
            "                 'read_last_record',\n",
            "                 'update_record',\n",
            "                 'remove_record',\n",
            "                 'run_command'],\n",
            " 'str_to_block.py': ['get_string_width', 'split_string']}\n",
            "from pages_to_pdf import pages_to_pdf\n",
            "from pages_to_pdf import empty_text\n",
            "from pages_to_pdf import list_of_tuples_to_pages\n",
            "from insert_text_into_table import split_text_into_lines\n",
            "from insert_text_into_table import insert_text_into_table\n",
            "from list_functions import split_string_into_lines\n",
            "from list_functions import detect_if_is_a_python_function\n",
            "from list_functions import read_file\n",
            "from list_functions import list_module_functions\n",
            "from str_to_block import get_string_width\n",
            "from str_to_block import split_string\n",
            "from sql_core import create_table\n",
            "from sql_core import insert_record\n",
            "from sql_core import insert_several_records\n",
            "from sql_core import read_records\n",
            "from sql_core import read_last_record\n",
            "from sql_core import update_record\n",
            "from sql_core import remove_record\n",
            "from sql_core import run_command\n"
          ]
        }
      ],
      "source": [
        "#@title commited\n",
        "\n",
        "!git clone https://github.com/GenaroHacker/pdf_generator.git\n",
        "%cd /content/pdf_generator\n",
        "if True:\n",
        "  %ls\n",
        "%run list_functions.py\n",
        "\n",
        "\n",
        "from PIL import ImageFont\n",
        "\n",
        "\n",
        "!pip install reportlab\n",
        "\n",
        "\n",
        "#The funtion takes a path to a file in colaboratory and returns a list of its files ending with .py in the following format:\n",
        "#Input '/cotent/pdf_generator/sql_core.py'\n",
        "#Output ['sql_core.py']\n",
        "import os\n",
        "def list_files_in_colab_folder(path):\n",
        "    files = []\n",
        "    for file in os.listdir(path):\n",
        "        if file.endswith('.py'):\n",
        "            files.append(file)\n",
        "    return files\n",
        "\n",
        "my_modules = list_files_in_colab_folder('/content/pdf_generator')\n",
        "\n",
        "\n",
        "\n",
        "#Input \"def get_string_width(font_path, string):\"\n",
        "#Output \"get_string_width\"\n",
        "def get_function_name(string):\n",
        "    function_name = string.split('(')[0]\n",
        "    function_name = function_name.split(' ')[1]\n",
        "    return function_name\n",
        "\n",
        "function_names = []\n",
        "for function in list_module_functions('/content/pdf_generator/sql_core.py'):\n",
        "    function_names.append(get_function_name(function))\n",
        "\n",
        "dict_module_functions = {}\n",
        "for path in list_files_in_colab_folder('/content/pdf_generator'):\n",
        "  function_names = []\n",
        "  for function in list_module_functions('/content/pdf_generator/' + path):\n",
        "    function_names.append(get_function_name(function))\n",
        "  dict_module_functions[path] = function_names\n",
        "print(dict_module_functions)\n",
        "     \n",
        "\n",
        "for module in dict_module_functions:\n",
        "  print(\"----\" + module + \"-----\")\n",
        "  %run $module\n",
        "  %load $module\n",
        "\n",
        "from pprint import pprint\n",
        "pprint(dict_module_functions)\n",
        "\n",
        "\n",
        "def print_function_imports(modules_functions):\n",
        "    for module, functions in modules_functions.items():\n",
        "        for function in functions:\n",
        "            module_name = module[:-3]\n",
        "            print(f\"from {module_name} import {function}\")\n",
        "\n",
        "print_function_imports(dict_module_functions)"
      ]
    },
    {
      "cell_type": "code",
      "source": [
        "#@title imports\n",
        "from pages_to_pdf import pages_to_pdf\n",
        "from pages_to_pdf import empty_text\n",
        "from pages_to_pdf import list_of_tuples_to_pages\n",
        "from insert_text_into_table import split_text_into_lines\n",
        "from insert_text_into_table import insert_text_into_table\n",
        "from list_functions import split_string_into_lines\n",
        "from list_functions import detect_if_is_a_python_function\n",
        "from list_functions import read_file\n",
        "from list_functions import list_module_functions\n",
        "from str_to_block import get_string_width\n",
        "from str_to_block import split_string\n",
        "from sql_core import create_table\n",
        "from sql_core import insert_record\n",
        "from sql_core import insert_several_records\n",
        "from sql_core import read_records\n",
        "from sql_core import read_last_record\n",
        "from sql_core import update_record\n",
        "from sql_core import remove_record\n",
        "from sql_core import run_command"
      ],
      "metadata": {
        "id": "xRAWwAPm0NrE",
        "colab": {
          "base_uri": "https://localhost:8080/"
        },
        "outputId": "0eb14062-18d2-4622-b16f-0f3b53847d3f"
      },
      "execution_count": 2,
      "outputs": [
        {
          "output_type": "stream",
          "name": "stdout",
          "text": [
            "\n",
            "for function in list_module_functions('/content/pdf_generator/sql_core.py'):\n",
            "    print(function)\n",
            "    \n",
            "def create_table( database_name , table_name , table_structure ):\n",
            "def insert_record(database_name, record):\n",
            "def insert_several_records(database_name, multiple_records):\n",
            "def read_records(database_name, table_name):\n",
            "def read_last_record(database_name, table_name):\n",
            "def update_record(database_name, record):\n",
            "def remove_record(database_name, record):\n",
            "def run_command(database_name, command):\n",
            "['Hello World, this is a test to see if the function works how it should. ', 'I hope it does, otherwise I will have to fix it. ']\n"
          ]
        }
      ]
    },
    {
      "cell_type": "code",
      "source": [
        "#@title testing after imports\n",
        "\n",
        "get_string_width(\"/content/pdf_generator/Ubuntu-Regular.ttf\",\"hola\")\n",
        "block = split_string(\"Effectiveness is the art of balancing efficiency with purpose. Don't just rush to tick off your to-do list, pause to evaluate if it's moving you closer to your goals. Stay organized, delegate when possible, and don't shy away from seeking help. Let's crush those objectives!\",600)\n",
        "pprint(block)\n",
        "page = [block, block]\n",
        "book = [page, page]\n",
        "pages_to_pdf(book,\"textbook.pdf\")\n",
        "\n",
        "#Create one Table\n",
        "columns = \"\"\"\n",
        "        ID INTEGER PRIMARY KEY AUTOINCREMENT,\n",
        "        TAG VARCHAR(280),\n",
        "        BLOCK VARCHAR(280)\"\"\"\n",
        "create_table(\"base_blocks\",\"table_blocks\",columns)\n",
        "\n",
        "#Insert one record\n",
        "insert_record(\"base_blocks\",\"INSERT INTO table_blocks VALUES (NULL,'SPORT','this is some example text about sports')\")\n",
        "#Record inserted successfully!\n",
        "\n",
        "\n",
        "#Read all records\n",
        "list_of_tuples = read_records(\"base_blocks\",\"table_blocks\")\n",
        "pprint(list_of_tuples)\n",
        "#Read last record\n",
        "last_record = read_last_record(\"base_blocks\",\"table_blocks\")\n",
        "\n",
        "#Update record\n",
        "update_record(\"base_blocks\",\"UPDATE table_blocks SET BLOCK='BLOCK NAME UPDATED' WHERE ID=2\")\n",
        "#The record with ID=3 has been updated successfully!\n",
        "\n",
        "#Remove record\n",
        "#remove_record(\"base_blocks\",\"DELETE FROM table_blocks WHERE ID=1\")\n",
        "#The record with ID=4 has been removed successfully!\n",
        "\n",
        "example_text = \"this is some example text\"\n",
        "tweetlenght = 280\n",
        "insert_text_into_table(\"this is some example text -this is some example text -this is some example text -this is some example text -this is some example text -this is some example text -this is some example text -this is some example text -this is some example text -this is some example text -this is some example text - \",\n",
        "                       \"example\",\"base_blocks\",\"table_blocks\")\n",
        "\n",
        "\n",
        "def db_to_pdf(db_name, table_name, tags,n_pages, pdf_name, empty_coeficient):\n",
        "  #Read all records\n",
        "  list_of_tuples = read_records(db_name,table_name)\n",
        "  pages = list_of_tuples_to_pages(list_of_tuples, tags,amount_of_pages=n_pages,coeficient=empty_coeficient)\n",
        "  print(pages)\n",
        "  pages_to_pdf(pages,pdf_name)\n",
        "db_to_pdf(\"base_blocks\", \"table_blocks\", [\"example\"],3, \"new_file.pdf\",0.5)"
      ],
      "metadata": {
        "colab": {
          "base_uri": "https://localhost:8080/"
        },
        "id": "2MPlCLty026t",
        "outputId": "47973a3e-c68e-4ea5-c884-1effc8bdd03a"
      },
      "execution_count": 6,
      "outputs": [
        {
          "output_type": "stream",
          "name": "stdout",
          "text": [
            "[\"Effectiveness is the art of balancing efficiency with purpose. Don't \",\n",
            " \"just rush to tick off your to-do list, pause to evaluate if it's moving \",\n",
            " 'you closer to your goals. Stay organized, delegate when possible, ',\n",
            " \"and don't shy away from seeking help. Let's crush those \",\n",
            " 'objectives! ']\n",
            "[(1, 'SPORT', 'this is some example text about sports'),\n",
            " (2, 'SPORT', 'BLOCK NAME UPDATED'),\n",
            " (3, 'SPORT', 'this is some example text about sports'),\n",
            " (4,\n",
            "  'tag',\n",
            "  'this is some example text -this is some example text -this is some example '\n",
            "  'text -this is some example text -this is some example text -this is some '\n",
            "  'example text -this is some example text -this is some example text -this is '\n",
            "  'some example text -this is some example text -this is so'),\n",
            " (5, 'SPORT', 'this is some example text about sports')]\n",
            "Inserted 1 blocks into table table_blocks with tag tag\n",
            "[[['this         example text -this                 text               ', '             -this is some         text -this is      example text ', '         some example text          some example text -this         ', '             -this is              text -this                      ', '-this is    '], ['this    some              -this    some              -this         ', '                   is                   -this is some example text ', '-this is              text -this    some              -this is      ', 'example text               example            is some         text ', '-this    so '], ['this    some example                                 -this    some ', 'example      -this is      example text       is              text ', '      is some         text          some example      -this is      ', '                                   text       is some              ', '         so '], ['     is      example      -this is                            some ', 'example text -this                            is      example      ', '      is some example text       is                            some ', 'example text -this is                   -this is              text ', '-this is    '], ['        some example      -this         example text               ', 'example text -this    some         text -this is                   ', '      is      example               some example text -this is      ', '        text -this         example      -this is      example      ', '      is    '], ['this is              text       is some                       some ', '             -this is                                 example      ', '      is      example               some example      -this         ', 'example text          some example text          some example text ', '            ']], [['this                            is              text          some ', '        text -this    some         text -this    some example text ', '      is      example      -this is some         text -this         ', '        text -this         example text -this is                   ', '-this is    '], ['this is                   -this is some example text -this is some ', 'example      -this is some example            is some         text ', '      is some         text -this is      example text               ', 'example      -this is some example text -this is                   ', '-this is    '], ['     is some         text       is some         text       is      ', 'example            is some example      -this         example text ', '-this    some example      -this is some                    is      ', '        text -this is some example      -this is some example      ', '-this       '], ['this is      example                    example      -this         ', 'example            is some example            is                   ', '         some example                    example            is some ', 'example text          some         text                            ', '-this is    '], ['this         example text -this is some example text -this is      ', 'example                            text -this         example      ', '      is some         text -this is some example               some ', '        text          some         text -this is some         text ', '      is    '], ['this is      example text          some example            is      ', 'example      -this    some                    is              text ', '-this is                   -this is some example                    ', 'example text       is some example text       is      example text ', '      is    ']], [['this is      example      -this is some example            is some ', 'example text -this         example text -this is some example      ', '      is      example      -this is      example                    ', 'example            is some         text -this    some example text ', '-this    so '], ['this         example text -this         example text       is      ', 'example text -this is      example text -this is some              ', '-this                            is                         is some ', 'example text -this    some example text       is some example text ', '         so '], ['this is some         text                            -this is some ', '                   is some                    is      example text ', '         some         text -this is some example text -this is      ', '        text       is some example text -this is some              ', '-this is    '], ['     is              text -this    some example      -this is some ', 'example text -this is      example      -this         example      ', '      is                            some example                    ', 'example            is some         text       is      example text ', '         so '], ['this    some                    is      example            is some ', 'example      -this is some         text -this    some example      ', '         some example      -this is some example               some ', 'example      -this    some         text       is              text ', '-this is    '], ['this    some                       some example            is some ', 'example            is some         text -this    some example      ', '      is some         text          some example            is some ', 'example      -this                 text -this         example text ', '            ']]]\n"
          ]
        }
      ]
    },
    {
      "cell_type": "code",
      "source": [
        "insert_text_into_table(\"\"\"\n",
        "\n",
        "    Prioritize your tasks: Identify the most important task for the day and complete it first thing in the morning.\n",
        "\n",
        "    Break down big tasks: Large tasks can be overwhelming, so break them down into smaller, more manageable steps.\n",
        "\n",
        "    Set SMART goals: Ensure your goals are Specific, Measurable, Achievable, Relevant, and Time-bound.\n",
        "\n",
        "    Practice active listening: Focus on what the other person is saying and seek to understand their perspective before responding.\n",
        "\n",
        "    Practice empathy: Put yourself in the shoes of others and consider their feelings and motivations.\n",
        "\n",
        "    Use the Pareto Principle: Focus on the 20% of tasks that will yield 80% of the results.\n",
        "\n",
        "    Apply the Eisenhower Matrix: Prioritize tasks based on their urgency and importance.\n",
        "\n",
        "    Take breaks: Regular breaks help maintain focus and prevent burnout.\n",
        "\n",
        "    Use positive self-talk: Encourage and motivate yourself with positive self-talk and affirmations.\n",
        "\n",
        "    Practice mindfulness: Take a few moments each day to focus on your breath and be present in the moment.\n",
        "\n",
        "    Learn continuously: Read books, attend workshops, and seek out opportunities to learn and grow.\n",
        "\n",
        "    Use data to make decisions: Gather data and analyze it to make informed decisions.\n",
        "\n",
        "    Collaborate effectively: Work with others to achieve common goals and leverage their strengths.\n",
        "\n",
        "    Use technology to be productive: Use tools like task managers, calendars, and apps to stay organized and productive.\n",
        "\n",
        "    Take care of yourself: Prioritize self-care activities like exercise, healthy eating, and getting enough sleep.\n",
        "\n",
        "\n",
        "\"\"\",\"gtd\",\"base_blocks\",\"table_blocks\")\n",
        "\n",
        "db_to_pdf(\"base_blocks\", \"table_blocks\", [\"gtd\"],3, \"new_file.pdf\",0.9)"
      ],
      "metadata": {
        "id": "gH45VeTk5Bqu",
        "outputId": "d1e54b23-70e5-4a26-8f35-17a7b7a2d745",
        "colab": {
          "base_uri": "https://localhost:8080/"
        }
      },
      "execution_count": 9,
      "outputs": [
        {
          "output_type": "stream",
          "name": "stdout",
          "text": [
            "Inserted 5 blocks into table table_blocks with tag gtd\n",
            "[[['positive                                                          ', '                                                             ', '                             your                              ', '                                                              ', 'seek              '], ['               and                                               ', '    analyze       make                                              ', '     with                                    leverage       ', '               technology                             like task ', '         '], ['                                           yourself               ', '                                     mindfulness: Take       ', '                 to          your            be                ', 'moment. Learn                                                 ', 'seek              '], ['                                                  the              ', '          yield     of                                           ', '                       on their                              ', '        Regular                      focus and prevent burnout. ', '    '], ['                                                                    ', '                                                                  ', '                                                         ', '              manageable                                     ', '      are    '], ['      to                             make                        ', '    analyze                                                         ', '                                                            ', '                                productive:                     ', '         ']], [['                              and                   with          ', '                                     mindfulness:            ', '             day                                               ', '                                                          and ', '                  '], ['                tasks: Identify                                 day ', '                                   morning.                       ', '                be               so                      ', '                                                             ', '             '], ['                tasks:                                              ', '             it                the                                ', 'Large                                                    ', 'smaller, more manageable                  goals:             ', '          Sp '], ['                                    most                            ', '                                                                  ', '                be                        them           ', '                                                        your ', '             '], ['                                                                 ', '                                                                    ', '          others                                            ', '                                                tools like task ', 'managers '], ['positive            Encourage and                                 ', '                                                             ', '                                                           the ', '                                               workshops,     ', '     out          ']], [['                tasks:                                      the     ', '             it                the                                ', '      tasks                                              ', '                                          goals:             ', '             '], ['        Measurable,                                                ', '                                                                    ', '                                                            ', '                                   of            consider       ', '            '], ['d motivations.                                    the              ', '                                          the                    ', '                                                             ', '                                                       burnout. ', '    '], ['                                                                 ', '                                decisions. Collaborate              ', '                                                      their ', '                          to                                    ', 'managers '], ['                                                                 ', '                                                                    ', '                                                            ', '                          to                    tools           ', '         '], ['                                                                 ', 'and                                                                 ', '                                                            ', '                             be                       like      ', '         ']]]\n"
          ]
        }
      ]
    }
  ]
}