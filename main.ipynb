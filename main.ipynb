{
  "nbformat": 4,
  "nbformat_minor": 0,
  "metadata": {
    "colab": {
      "provenance": [],
      "authorship_tag": "ABX9TyPXNwkfjCYYlsGtKcDAJtSz",
      "include_colab_link": true
    },
    "kernelspec": {
      "name": "python3",
      "display_name": "Python 3"
    },
    "language_info": {
      "name": "python"
    }
  },
  "cells": [
    {
      "cell_type": "markdown",
      "metadata": {
        "id": "view-in-github",
        "colab_type": "text"
      },
      "source": [
        "<a href=\"https://colab.research.google.com/github/GenaroHacker/pdf_generator/blob/main/main.ipynb\" target=\"_parent\"><img src=\"https://colab.research.google.com/assets/colab-badge.svg\" alt=\"Open In Colab\"/></a>"
      ]
    },
    {
      "cell_type": "code",
      "execution_count": 1,
      "metadata": {
        "id": "IsUAuIOKV_NX"
      },
      "outputs": [],
      "source": [
        "%%capture\n",
        "!git clone https://github.com/GenaroHacker/pdf_generator.git\n",
        "%cd /content/pdf_generator\n",
        "if True:\n",
        "  %ls\n",
        "%run sql_core.py\n",
        "!pip install reportlab\n",
        "%run list_functions.py"
      ]
    },
    {
      "cell_type": "code",
      "source": [],
      "metadata": {
        "outputId": "bb8ba154-9d12-4812-8b7b-4c62efb67845",
        "colab": {
          "base_uri": "https://localhost:8080/"
        },
        "id": "bUmmnIeEDojF"
      },
      "execution_count": 2,
      "outputs": [
        {
          "output_type": "stream",
          "name": "stdout",
          "text": [
            "def connect_disconnect(func):\n",
            "def create_table( database_name , table_name , table_structure ):\n",
            "def insert_record(database_name, record):\n",
            "def insert_several_records(database_name, multiple_records):\n",
            "def read_records(database_name, table_name):\n",
            "def read_last_record(database_name, table_name):\n",
            "def update_record(database_name, record):\n",
            "def remove_record(database_name, record):\n",
            "def run_command(database_name, command):\n"
          ]
        }
      ]
    },
    {
      "cell_type": "code",
      "source": [],
      "metadata": {
        "id": "ZawNh31UFmA8",
        "outputId": "8e240d2b-858e-4433-bc10-e72cf337656a",
        "colab": {
          "base_uri": "https://localhost:8080/"
        }
      },
      "execution_count": 4,
      "outputs": [
        {
          "output_type": "stream",
          "name": "stdout",
          "text": [
            "Looking in indexes: https://pypi.org/simple, https://us-python.pkg.dev/colab-wheels/public/simple/\n",
            "\u001b[31mERROR: Could not find a version that satisfies the requirement os (from versions: none)\u001b[0m\u001b[31m\n",
            "\u001b[0m\u001b[31mERROR: No matching distribution found for os\u001b[0m\u001b[31m\n",
            "\u001b[0m"
          ]
        }
      ]
    },
    {
      "cell_type": "code",
      "source": [
        "#The funtion takes a path to a file in colaboratory and returns a list of its files ending with .py in the following format:\n",
        "#Input '/cotent/pdf_generator/sql_core.py'\n",
        "#Output ['sql_core.py']\n",
        "import os\n",
        "def list_files_in_colab_folder(path):\n",
        "    files = []\n",
        "    for file in os.listdir(path):\n",
        "        if file.endswith('.py'):\n",
        "            files.append(file)\n",
        "    return files\n",
        "\n",
        "#test 4\n",
        "my_modules = list_files_in_colab_folder('/content/pdf_generator')\n",
        "\n",
        "\n",
        "for module in my_modules:\n",
        "  print(\"--- \" + module)\n",
        "  for function in list_module_functions('/content/pdf_generator/' + module):\n",
        "    print(function)\n"
      ],
      "metadata": {
        "id": "rB37ICM2FhRS",
        "outputId": "ae69431d-76ef-4456-f84f-d95ee5c27a49",
        "colab": {
          "base_uri": "https://localhost:8080/"
        }
      },
      "execution_count": 4,
      "outputs": [
        {
          "output_type": "stream",
          "name": "stdout",
          "text": [
            "--- str_to_block.py\n",
            "def get_string_width(font_path, string):\n",
            "def split_string(string, max_width):\n",
            "--- list_functions.py\n",
            "def split_string_into_lines(string):\n",
            "def detect_if_is_a_python_function(string):\n",
            "def read_file(file_name):\n",
            "def list_module_functions(file_name):\n",
            "--- pages_to_pdf.py\n",
            "def pages_to_pdf(pages):\n",
            "--- sql_core.py\n",
            "def connect_disconnect(func):\n",
            "def create_table( database_name , table_name , table_structure ):\n",
            "def insert_record(database_name, record):\n",
            "def insert_several_records(database_name, multiple_records):\n",
            "def read_records(database_name, table_name):\n",
            "def read_last_record(database_name, table_name):\n",
            "def update_record(database_name, record):\n",
            "def remove_record(database_name, record):\n",
            "def run_command(database_name, command):\n"
          ]
        }
      ]
    }
  ]
}