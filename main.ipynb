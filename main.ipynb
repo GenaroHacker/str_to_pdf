{
  "nbformat": 4,
  "nbformat_minor": 0,
  "metadata": {
    "colab": {
      "provenance": [],
      "authorship_tag": "ABX9TyMQvyyvkNfKDzOx++W2KI8D",
      "include_colab_link": true
    },
    "kernelspec": {
      "name": "python3",
      "display_name": "Python 3"
    },
    "language_info": {
      "name": "python"
    }
  },
  "cells": [
    {
      "cell_type": "markdown",
      "metadata": {
        "id": "view-in-github",
        "colab_type": "text"
      },
      "source": [
        "<a href=\"https://colab.research.google.com/github/GenaroHacker/pdf_generator/blob/main/main.ipynb\" target=\"_parent\"><img src=\"https://colab.research.google.com/assets/colab-badge.svg\" alt=\"Open In Colab\"/></a>"
      ]
    },
    {
      "cell_type": "code",
      "execution_count": 1,
      "metadata": {
        "id": "IsUAuIOKV_NX",
        "outputId": "c7de5c3b-743b-4971-89af-2b2d8830dc5f",
        "colab": {
          "base_uri": "https://localhost:8080/",
          "height": 713
        }
      },
      "outputs": [
        {
          "output_type": "stream",
          "name": "stdout",
          "text": [
            "Cloning into 'pdf_generator'...\n",
            "remote: Enumerating objects: 61, done.\u001b[K\n",
            "remote: Counting objects: 100% (61/61), done.\u001b[K\n",
            "remote: Compressing objects: 100% (57/57), done.\u001b[K\n",
            "remote: Total 61 (delta 28), reused 14 (delta 2), pack-reused 0\u001b[K\n",
            "Unpacking objects: 100% (61/61), 181.92 KiB | 3.50 MiB/s, done.\n",
            "/content/pdf_generator\n",
            "grey_lines_text.pdf  main.ipynb       sql_core.py      Ubuntu-Regular.ttf\n",
            "list_functions.py    pages_to_pdf.py  str_to_block.py\n",
            "\n",
            "for function in list_module_functions('/content/pdf_generator/sql_core.py'):\n",
            "    print(function)\n",
            "    \n",
            "def connect_disconnect(func):\n",
            "def create_table( database_name , table_name , table_structure ):\n",
            "def insert_record(database_name, record):\n",
            "def insert_several_records(database_name, multiple_records):\n",
            "def read_records(database_name, table_name):\n",
            "def read_last_record(database_name, table_name):\n",
            "def update_record(database_name, record):\n",
            "def remove_record(database_name, record):\n",
            "def run_command(database_name, command):\n",
            "Looking in indexes: https://pypi.org/simple, https://us-python.pkg.dev/colab-wheels/public/simple/\n",
            "Collecting reportlab\n",
            "  Downloading reportlab-3.6.12-cp38-cp38-manylinux_2_17_x86_64.manylinux2014_x86_64.whl (2.8 MB)\n",
            "\u001b[2K     \u001b[90m━━━━━━━━━━━━━━━━━━━━━━━━━━━━━━━━━━━━━━━━\u001b[0m \u001b[32m2.8/2.8 MB\u001b[0m \u001b[31m13.2 MB/s\u001b[0m eta \u001b[36m0:00:00\u001b[0m\n",
            "\u001b[?25hCollecting pillow>=9.0.0\n",
            "  Downloading Pillow-9.4.0-cp38-cp38-manylinux_2_28_x86_64.whl (3.4 MB)\n",
            "\u001b[2K     \u001b[90m━━━━━━━━━━━━━━━━━━━━━━━━━━━━━━━━━━━━━━━━\u001b[0m \u001b[32m3.4/3.4 MB\u001b[0m \u001b[31m28.0 MB/s\u001b[0m eta \u001b[36m0:00:00\u001b[0m\n",
            "\u001b[?25hInstalling collected packages: pillow, reportlab\n",
            "  Attempting uninstall: pillow\n",
            "    Found existing installation: Pillow 8.4.0\n",
            "    Uninstalling Pillow-8.4.0:\n",
            "      Successfully uninstalled Pillow-8.4.0\n",
            "Successfully installed pillow-9.4.0 reportlab-3.6.12\n"
          ]
        },
        {
          "output_type": "display_data",
          "data": {
            "application/vnd.colab-display-data+json": {
              "pip_warning": {
                "packages": [
                  "PIL"
                ]
              }
            }
          },
          "metadata": {}
        }
      ],
      "source": [
        "\n",
        "!git clone https://github.com/GenaroHacker/pdf_generator.git\n",
        "%cd /content/pdf_generator\n",
        "if True:\n",
        "  %ls\n",
        "%run sql_core.py\n",
        "%run list_functions.py\n",
        "\n",
        "\n",
        "\n",
        "\n",
        "\n",
        "!pip install reportlab"
      ]
    },
    {
      "cell_type": "code",
      "source": [
        "#@title dictionary modules_functions\n",
        "\n",
        "\n",
        "\n",
        "#The funtion takes a path to a file in colaboratory and returns a list of its files ending with .py in the following format:\n",
        "#Input '/cotent/pdf_generator/sql_core.py'\n",
        "#Output ['sql_core.py']\n",
        "import os\n",
        "def list_files_in_colab_folder(path):\n",
        "    files = []\n",
        "    for file in os.listdir(path):\n",
        "        if file.endswith('.py'):\n",
        "            files.append(file)\n",
        "    return files\n",
        "\n",
        "my_modules = list_files_in_colab_folder('/content/pdf_generator')\n",
        "\n",
        "\n",
        "\n",
        "#Input \"def get_string_width(font_path, string):\"\n",
        "#Output \"get_string_width\"\n",
        "def get_function_name(string):\n",
        "    function_name = string.split('(')[0]\n",
        "    function_name = function_name.split(' ')[1]\n",
        "    return function_name\n",
        "\n",
        "function_names = []\n",
        "for function in list_module_functions('/content/pdf_generator/sql_core.py'):\n",
        "    function_names.append(get_function_name(function))\n",
        "\n",
        "dict_module_functions = {}\n",
        "for path in list_files_in_colab_folder('/content/pdf_generator'):\n",
        "  function_names = []\n",
        "  for function in list_module_functions('/content/pdf_generator/' + path):\n",
        "    function_names.append(get_function_name(function))\n",
        "  dict_module_functions[path] = function_names\n",
        "print(dict_module_functions)"
      ],
      "metadata": {
        "colab": {
          "base_uri": "https://localhost:8080/"
        },
        "id": "rB37ICM2FhRS",
        "outputId": "c203d01c-6ce9-4864-b4f1-2a45f404d609",
        "cellView": "form"
      },
      "execution_count": 2,
      "outputs": [
        {
          "output_type": "stream",
          "name": "stdout",
          "text": [
            "{'pages_to_pdf.py': ['pages_to_pdf'], 'sql_core.py': ['connect_disconnect', 'create_table', 'insert_record', 'insert_several_records', 'read_records', 'read_last_record', 'update_record', 'remove_record', 'run_command'], 'str_to_block.py': ['get_string_width', 'split_string'], 'list_functions.py': ['split_string_into_lines', 'detect_if_is_a_python_function', 'read_file', 'list_module_functions']}\n"
          ]
        }
      ]
    },
    {
      "cell_type": "code",
      "source": [
        "for module in dict_module_functions:\n",
        "  %run $module\n",
        "  %load $module"
      ],
      "metadata": {
        "colab": {
          "base_uri": "https://localhost:8080/",
          "height": 584
        },
        "id": "PktxywOBG4mY",
        "outputId": "61edb352-57e4-4bc3-99c8-15f92198040c"
      },
      "execution_count": 18,
      "outputs": [
        {
          "output_type": "error",
          "ename": "ImportError",
          "evalue": "ignored",
          "traceback": [
            "\u001b[0;31m---------------------------------------------------------------------------\u001b[0m",
            "\u001b[0;31mImportError\u001b[0m                               Traceback (most recent call last)",
            "\u001b[0;32m/content/pdf_generator/str_to_block.py\u001b[0m in \u001b[0;36m<module>\u001b[0;34m\u001b[0m\n\u001b[0;32m----> 1\u001b[0;31m \u001b[0;32mfrom\u001b[0m \u001b[0mPIL\u001b[0m \u001b[0;32mimport\u001b[0m \u001b[0mImageFont\u001b[0m\u001b[0;34m\u001b[0m\u001b[0;34m\u001b[0m\u001b[0m\n\u001b[0m\u001b[1;32m      2\u001b[0m \u001b[0;34m\u001b[0m\u001b[0m\n\u001b[1;32m      3\u001b[0m \u001b[0;34m\u001b[0m\u001b[0m\n\u001b[1;32m      4\u001b[0m \u001b[0;31m#The function takes a font and a string as input and returns the width of the string in pixels\u001b[0m\u001b[0;34m\u001b[0m\u001b[0;34m\u001b[0m\u001b[0;34m\u001b[0m\u001b[0m\n\u001b[1;32m      5\u001b[0m \u001b[0;32mdef\u001b[0m \u001b[0mget_string_width\u001b[0m\u001b[0;34m(\u001b[0m\u001b[0mfont_path\u001b[0m\u001b[0;34m,\u001b[0m \u001b[0mstring\u001b[0m\u001b[0;34m)\u001b[0m\u001b[0;34m:\u001b[0m\u001b[0;34m\u001b[0m\u001b[0;34m\u001b[0m\u001b[0m\n",
            "\u001b[0;32m/usr/local/lib/python3.8/dist-packages/PIL/ImageFont.py\u001b[0m in \u001b[0;36m<module>\u001b[0;34m\u001b[0m\n\u001b[1;32m     36\u001b[0m \u001b[0;32mfrom\u001b[0m \u001b[0;34m.\u001b[0m \u001b[0;32mimport\u001b[0m \u001b[0mImage\u001b[0m\u001b[0;34m\u001b[0m\u001b[0;34m\u001b[0m\u001b[0m\n\u001b[1;32m     37\u001b[0m \u001b[0;32mfrom\u001b[0m \u001b[0;34m.\u001b[0m\u001b[0m_deprecate\u001b[0m \u001b[0;32mimport\u001b[0m \u001b[0mdeprecate\u001b[0m\u001b[0;34m\u001b[0m\u001b[0;34m\u001b[0m\u001b[0m\n\u001b[0;32m---> 38\u001b[0;31m \u001b[0;32mfrom\u001b[0m \u001b[0;34m.\u001b[0m\u001b[0m_util\u001b[0m \u001b[0;32mimport\u001b[0m \u001b[0mis_directory\u001b[0m\u001b[0;34m,\u001b[0m \u001b[0mis_path\u001b[0m\u001b[0;34m\u001b[0m\u001b[0;34m\u001b[0m\u001b[0m\n\u001b[0m\u001b[1;32m     39\u001b[0m \u001b[0;34m\u001b[0m\u001b[0m\n\u001b[1;32m     40\u001b[0m \u001b[0;34m\u001b[0m\u001b[0m\n",
            "\u001b[0;31mImportError\u001b[0m: cannot import name 'is_directory' from 'PIL._util' (/usr/local/lib/python3.8/dist-packages/PIL/_util.py)"
          ]
        },
        {
          "output_type": "stream",
          "name": "stdout",
          "text": [
            "\n",
            "for function in list_module_functions('/content/pdf_generator/sql_core.py'):\n",
            "    print(function)\n",
            "    \n",
            "def connect_disconnect(func):\n",
            "def create_table( database_name , table_name , table_structure ):\n",
            "def insert_record(database_name, record):\n",
            "def insert_several_records(database_name, multiple_records):\n",
            "def read_records(database_name, table_name):\n",
            "def read_last_record(database_name, table_name):\n",
            "def update_record(database_name, record):\n",
            "def remove_record(database_name, record):\n",
            "def run_command(database_name, command):\n"
          ]
        }
      ]
    }
  ]
}